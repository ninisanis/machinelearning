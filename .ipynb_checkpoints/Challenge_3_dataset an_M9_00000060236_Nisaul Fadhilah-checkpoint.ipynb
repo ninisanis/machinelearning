{
 "cells": [
  {
   "cell_type": "markdown",
   "id": "aea691db",
   "metadata": {},
   "source": [
    "## <div align=\"center\"> TUGAS LAB IF540 MACHINE LEARNING </div>\n",
    "### <div align=\"center\"> WEEK xx : Topic </div>\n",
    "\n",
    "#### <div align=\"center\"> Semester Genap 2022/2023 </div>"
   ]
  },
  {
   "cell_type": "code",
   "execution_count": 2,
   "id": "6704ffa6",
   "metadata": {},
   "outputs": [],
   "source": [
    "# Run this code when you restart the machine\n",
    "# Fill in with YOUR name and NIM\n",
    "import datetime\n",
    "import uuid\n",
    "\n",
    "myName = \"Moeljono Widjaja\"\n",
    "myNIM = \"123456\""
   ]
  },
  {
   "cell_type": "code",
   "execution_count": 2,
   "id": "ad81e0ee",
   "metadata": {},
   "outputs": [
    {
     "name": "stdout",
     "output_type": "stream",
     "text": [
      "Name: \t\tMoeljono Widjaja\n",
      "NIM: \t\t123456\n",
      "Start: \t\t2023-02-12 10:08:21.546733\n",
      "Device ID: \t819e6d44-aa82-11ed-9eca-3c58c2b638ce\n"
     ]
    }
   ],
   "source": [
    "myDate = datetime.datetime.now()\n",
    "myDevice = str(uuid.uuid1())\n",
    "\n",
    "print(\"Name: \\t\\t{}\".format(myName))\n",
    "print(\"NIM: \\t\\t{}\".format(myNIM))\n",
    "print(\"Start: \\t\\t{}\".format(myDate))\n",
    "print(\"Device ID: \\t{}\".format(myDevice))"
   ]
  },
  {
   "cell_type": "markdown",
   "id": "ce3f5e6e",
   "metadata": {},
   "source": [
    "\n",
    "---\n",
    "\n",
    "### Dataset yang dipakai:\n",
    "\n",
    "1. [Nama dataset1] – sumber : [cantumkan link dataset1]\n",
    "2. [Nama dataset2] – sumber : [cantumkan link dataset2]\n",
    "\n",
    "---\n",
    "\n",
    "### Hasil kerja"
   ]
  },
  {
   "cell_type": "markdown",
   "id": "045ceb51",
   "metadata": {},
   "source": [
    "#### Importing system library"
   ]
  },
  {
   "cell_type": "code",
   "execution_count": 3,
   "id": "d8c4470e",
   "metadata": {},
   "outputs": [],
   "source": [
    "import sys"
   ]
  },
  {
   "cell_type": "markdown",
   "id": "5605ad06",
   "metadata": {},
   "source": [
    "#### Importing numpy library"
   ]
  },
  {
   "cell_type": "code",
   "execution_count": 4,
   "id": "8c378416",
   "metadata": {},
   "outputs": [],
   "source": [
    "import numpy as np"
   ]
  },
  {
   "cell_type": "markdown",
   "id": "e65388f7",
   "metadata": {},
   "source": [
    "---\n",
    "\n",
    "### Kesimpulan\n",
    "\n",
    "\n",
    "\n",
    "Berikan simpulan yang dilakukan dari hasil kerja menggunakan algoritma dan 2 dataset yang\n",
    "dipilih. Simpulan bisa berkisar antara (bisa di modifikasi):\n",
    "\n",
    "    - Simpulan perbandingan dataset\n",
    "    - Hasil akurasi yang diberikan (jika ada dalam modul)\n",
    "    - Hasil perbandingan akurasi antara algoritma (jika ada dalam modul)\n",
    "    - Hasil pemikiran dan observasi akhir dari kerja menurut mahasiswa.\n",
    "\n",
    "---"
   ]
  },
  {
   "cell_type": "code",
   "execution_count": 3,
   "id": "60b9b4ca",
   "metadata": {},
   "outputs": [
    {
     "name": "stdout",
     "output_type": "stream",
     "text": [
      "I certify that this is my own work.\n",
      "Signed by:\n",
      "Name: \t\tMoeljono Widjaja\n",
      "NIM: \t\t123456\n",
      "Time-stamp:\t2023-02-12 10:08:53.642099\n"
     ]
    }
   ],
   "source": [
    "# Footer\n",
    "myDate = datetime.datetime.now()\n",
    "print(\"I certify that this is my own work.\")\n",
    "print(\"Signed by:\")\n",
    "print(\"Name: \\t\\t{}\".format(myName))\n",
    "print(\"NIM: \\t\\t{}\".format(myNIM))\n",
    "print(\"Time-stamp:\\t{}\".format(myDate))"
   ]
  },
  {
   "cell_type": "markdown",
   "id": "115e24b4",
   "metadata": {},
   "source": [
    "***\n",
    "\n",
    "### Save the notebook, then convert the notebook to html (by running the next code)."
   ]
  },
  {
   "cell_type": "code",
   "execution_count": null,
   "id": "1e86341c",
   "metadata": {},
   "outputs": [],
   "source": [
    "!jupyter nbconvert --to html \"./Template Laporan Tugas Mingguan Lab IF540.ipynb\" --output-dir=\"./\""
   ]
  }
 ],
 "metadata": {
  "kernelspec": {
   "display_name": "Python 3 (ipykernel)",
   "language": "python",
   "name": "python3"
  },
  "language_info": {
   "codemirror_mode": {
    "name": "ipython",
    "version": 3
   },
   "file_extension": ".py",
   "mimetype": "text/x-python",
   "name": "python",
   "nbconvert_exporter": "python",
   "pygments_lexer": "ipython3",
   "version": "3.9.12"
  }
 },
 "nbformat": 4,
 "nbformat_minor": 5
}
