{
 "cells": [
  {
   "cell_type": "markdown",
   "id": "c95ea067",
   "metadata": {},
   "source": [
    "## <div align=\"center\"> TUGAS  IF540 MACHINE LEARNING </div>\n",
    "### <div align=\"center\"> WEEK 07 : Tugas 1 lecture </div>\n",
    "\n",
    "#### <div align=\"center\"> Semester Genap 2022/2023 </div>"
   ]
  },
  {
   "cell_type": "code",
   "execution_count": 1,
   "id": "df4f632e",
   "metadata": {},
   "outputs": [],
   "source": [
    "# Run this code when you restart the machine\n",
    "# Fill in with YOUR name and NIM\n",
    "import datetime\n",
    "import uuid\n",
    "\n",
    "myName = \"Nisa'ul Fadhilah\"\n",
    "myNIM = \"00000060236\""
   ]
  },
  {
   "cell_type": "code",
   "execution_count": 2,
   "id": "bff52c9f",
   "metadata": {},
   "outputs": [
    {
     "name": "stdout",
     "output_type": "stream",
     "text": [
      "Name: \t\tNisa'ul Fadhilah\n",
      "NIM: \t\t00000060236\n",
      "Start: \t\t2023-10-20 23:51:49.691442\n",
      "Device ID: \tf67081f9-6f68-11ee-a840-2c3b70a37f3c\n"
     ]
    }
   ],
   "source": [
    "myDate = datetime.datetime.now()\n",
    "myDevice = str(uuid.uuid1())\n",
    "\n",
    "print(\"Name: \\t\\t{}\".format(myName))\n",
    "print(\"NIM: \\t\\t{}\".format(myNIM))\n",
    "print(\"Start: \\t\\t{}\".format(myDate))\n",
    "print(\"Device ID: \\t{}\".format(myDevice))"
   ]
  },
  {
   "cell_type": "code",
   "execution_count": 3,
   "id": "59e04e72",
   "metadata": {},
   "outputs": [],
   "source": [
    "import sys\n",
    "%matplotlib inline\n",
    "import numpy as np\n",
    "import matplotlib.pyplot as plt\n",
    "import seaborn as sns; sns.set()"
   ]
  },
  {
   "cell_type": "markdown",
   "id": "b3964c2d",
   "metadata": {},
   "source": [
    "SOAL 1"
   ]
  },
  {
   "cell_type": "code",
   "execution_count": 4,
   "id": "f4df8e8a",
   "metadata": {},
   "outputs": [
    {
     "data": {
      "text/html": [
       "<div>\n",
       "<style scoped>\n",
       "    .dataframe tbody tr th:only-of-type {\n",
       "        vertical-align: middle;\n",
       "    }\n",
       "\n",
       "    .dataframe tbody tr th {\n",
       "        vertical-align: top;\n",
       "    }\n",
       "\n",
       "    .dataframe thead th {\n",
       "        text-align: right;\n",
       "    }\n",
       "</style>\n",
       "<table border=\"1\" class=\"dataframe\">\n",
       "  <thead>\n",
       "    <tr style=\"text-align: right;\">\n",
       "      <th></th>\n",
       "      <th>Waktu (dalam detik)</th>\n",
       "      <th>Jumlah Paket Data</th>\n",
       "    </tr>\n",
       "  </thead>\n",
       "  <tbody>\n",
       "    <tr>\n",
       "      <th>0</th>\n",
       "      <td>1</td>\n",
       "      <td>350</td>\n",
       "    </tr>\n",
       "    <tr>\n",
       "      <th>1</th>\n",
       "      <td>2</td>\n",
       "      <td>425</td>\n",
       "    </tr>\n",
       "    <tr>\n",
       "      <th>2</th>\n",
       "      <td>3</td>\n",
       "      <td>280</td>\n",
       "    </tr>\n",
       "    <tr>\n",
       "      <th>3</th>\n",
       "      <td>4</td>\n",
       "      <td>310</td>\n",
       "    </tr>\n",
       "    <tr>\n",
       "      <th>4</th>\n",
       "      <td>5</td>\n",
       "      <td>550</td>\n",
       "    </tr>\n",
       "    <tr>\n",
       "      <th>5</th>\n",
       "      <td>6</td>\n",
       "      <td>700</td>\n",
       "    </tr>\n",
       "    <tr>\n",
       "      <th>6</th>\n",
       "      <td>7</td>\n",
       "      <td>600</td>\n",
       "    </tr>\n",
       "    <tr>\n",
       "      <th>7</th>\n",
       "      <td>8</td>\n",
       "      <td>800</td>\n",
       "    </tr>\n",
       "    <tr>\n",
       "      <th>8</th>\n",
       "      <td>9</td>\n",
       "      <td>450</td>\n",
       "    </tr>\n",
       "    <tr>\n",
       "      <th>9</th>\n",
       "      <td>10</td>\n",
       "      <td>320</td>\n",
       "    </tr>\n",
       "  </tbody>\n",
       "</table>\n",
       "</div>"
      ],
      "text/plain": [
       "   Waktu (dalam detik)  Jumlah Paket Data\n",
       "0                    1                350\n",
       "1                    2                425\n",
       "2                    3                280\n",
       "3                    4                310\n",
       "4                    5                550\n",
       "5                    6                700\n",
       "6                    7                600\n",
       "7                    8                800\n",
       "8                    9                450\n",
       "9                   10                320"
      ]
     },
     "execution_count": 4,
     "metadata": {},
     "output_type": "execute_result"
    }
   ],
   "source": [
    "import pandas as pd\n",
    "\n",
    "# Membuat dictionary dengan data Anda\n",
    "soal1 = {\n",
    "    'Waktu (dalam detik)': [1, 2, 3, 4, 5, 6, 7, 8, 9, 10],\n",
    "    'Jumlah Paket Data': [350, 425, 280, 310, 550, 700, 600, 800, 450, 320]\n",
    "}\n",
    "\n",
    "# Membuat DataFrame dari dictionary\n",
    "soal1 = pd.DataFrame(soal1)\n",
    "\n",
    "# Menampilkan DataFrame\n",
    "soal1\n"
   ]
  },
  {
   "cell_type": "code",
   "execution_count": 5,
   "id": "1e500a6e",
   "metadata": {},
   "outputs": [
    {
     "name": "stdout",
     "output_type": "stream",
     "text": [
      "0.0\n",
      "0.057692307692307696\n",
      "0.07692307692307693\n",
      "0.1346153846153846\n",
      "0.27884615384615385\n",
      "0.3269230769230769\n",
      "0.5192307692307693\n",
      "0.6153846153846154\n",
      "0.8076923076923077\n",
      "1.0\n"
     ]
    }
   ],
   "source": [
    "#1. Hitunglah Min-Max Scaling dari dataset ini.\n",
    "# Xscale = X - Xmin / Xmax - Xmin\n",
    "\n",
    "print((280 - 280) / (800 - 280))\n",
    "print((310 - 280) / (800 - 280))\n",
    "print((320 - 280) / (800 - 280))\n",
    "print((350 - 280) / (800 - 280))\n",
    "print((425 - 280) / (800 - 280))\n",
    "print((450 - 280) / (800 - 280))\n",
    "print((550 - 280) / (800 - 280))\n",
    "print((600 - 280) / (800 - 280))\n",
    "print((700 - 280) / (800 - 280))\n",
    "print((800 - 280) / (800 - 280))"
   ]
  },
  {
   "cell_type": "code",
   "execution_count": 6,
   "id": "d8b613e0",
   "metadata": {},
   "outputs": [
    {
     "name": "stdout",
     "output_type": "stream",
     "text": [
      "mean :  478.5\n",
      "39402.25\n",
      "28392.25\n",
      "25122.25\n",
      "16512.25\n",
      "2862.25\n",
      "812.25\n",
      "5112.25\n",
      "14762.25\n",
      "49062.25\n",
      "103362.25\n",
      "hasilKuadrad :  285402.5\n",
      "Variance:  28540.25\n",
      "Standard Deviasi :  168.93859831311494\n",
      "-1.1749831121014467\n",
      "-0.9974038004488351\n",
      "-0.9382106965646312\n",
      "-0.7606313849120196\n",
      "-0.3166831057804907\n",
      "-0.16870034606998102\n",
      "0.4232306927720576\n",
      "0.719196212193077\n",
      "1.3111272510351155\n",
      "1.9030582898771542\n"
     ]
    }
   ],
   "source": [
    "#2. Hitunglah Standard Scaling dari dataset ini\n",
    "\n",
    "\n",
    "mean = ((280 + 310 + 320 + 350 + 425 + 450 + 550 + 600 + 700 + 800) / 10)\n",
    "print(\"mean : \", mean)\n",
    "\n",
    "print((280 - mean) ** 2)\n",
    "print((310 - mean) ** 2)\n",
    "print((320 - mean) ** 2)\n",
    "print((350 - mean) ** 2)\n",
    "print((425 - mean) ** 2)\n",
    "print((450 - mean) ** 2)\n",
    "print((550 - mean) ** 2)\n",
    "print((600 - mean) ** 2) \n",
    "print((700 - mean) ** 2)\n",
    "print((800 - mean) ** 2)\n",
    "\n",
    "print(\"hasilKuadrad : \", 39402.25 + 28392.25 + 25122.25 + 16512.25 + 2862.25 + 812.25 + 5112.25 + 14762.25 + 49062.25 + 103362.25)\n",
    "\n",
    "variance =  ((39402.25 + 28392.25 + 25122.25 + 16512.25 + 2862.25 + 812.25 + 5112.25 + 14762.25 + 49062.25 + 103362.25) / 10)\n",
    "\n",
    "print(\"Variance: \", variance)\n",
    "\n",
    "standard_deviasi = variance ** 0.5\n",
    "\n",
    "print(\"Standard Deviasi : \", standard_deviasi)\n",
    "\n",
    "# Rumus standard scaling Xscaled = (X - mean) / standsrd deviasi\n",
    "\n",
    "print((280 - mean) / standard_deviasi)\n",
    "print((310 - mean) / standard_deviasi)\n",
    "print((320 - mean) / standard_deviasi)\n",
    "print((350 - mean) / standard_deviasi)\n",
    "print((425 - mean) / standard_deviasi)\n",
    "print((450 - mean) / standard_deviasi)\n",
    "print((550 - mean) / standard_deviasi)\n",
    "print((600 - mean) / standard_deviasi)\n",
    "print((700 - mean) / standard_deviasi)\n",
    "print((800 - mean) / standard_deviasi)"
   ]
  },
  {
   "cell_type": "markdown",
   "id": "1e7cd74d",
   "metadata": {},
   "source": [
    "#### 3. Apa perbedaan antara Min-Max Scaling dan Standard Scaling dalam konteks ini?\n",
    "\n",
    "Nilai yang dihasilkan dari min max scaling sangat presisi pada rentang nilai 0 - 1, sedangkan standad scaling melakukan scaling berdasarkan mean dan standard deviasi yang rentang nilainya berdasarkan Standard Deviasi juga"
   ]
  },
  {
   "cell_type": "markdown",
   "id": "416affda",
   "metadata": {},
   "source": [
    "#### 4. Bagaimana pemilihan metode scaling dapat memengaruhi hasil deteksi anomali dalam lalu lintas jaringan?\n",
    "\n",
    "karena pada sebagian kasus persebaran data yang tidak normal beberapa metode tidak cocok karena menghasilkan nilai yang bias sehingga menghasilkan persebaran yang tidak normal."
   ]
  },
  {
   "cell_type": "markdown",
   "id": "264ed4bd",
   "metadata": {},
   "source": [
    "SOAL 2"
   ]
  },
  {
   "cell_type": "code",
   "execution_count": 9,
   "id": "963c2fd1",
   "metadata": {},
   "outputs": [],
   "source": [
    "#Perhitungan Jarak Vektor dan Dot Product\n",
    "#Anda memiliki tiga vektor dalam ruang tiga dimensi:\n",
    "#- Vektor A: [2, 4, 7]\n",
    "#- Vektor B: [3, 1, 5]\n",
    "#- Vektor C: [1, 6, 8]\n"
   ]
  },
  {
   "cell_type": "code",
   "execution_count": 72,
   "id": "0f30675a",
   "metadata": {},
   "outputs": [
    {
     "name": "stdout",
     "output_type": "stream",
     "text": [
      "Jarak euclidean:  3.7416573867739413\n"
     ]
    }
   ],
   "source": [
    "# 1. Hitunglah jarak Euclidean antara Vektor A dan Vektor B.\n",
    "\n",
    "# Rumus Jarak Euclidean = √((A1 - B1)² + (A2 - B2)² + (A3 - B3)²)\n",
    "\n",
    "jarak_euclidean = (((2 - 3) ** 2 + (4 - 1) ** 2 + (7 - 5) ** 2) ** 0.5)\n",
    "print(\"Jarak euclidean: \", jarak_euclidean)"
   ]
  },
  {
   "cell_type": "code",
   "execution_count": 11,
   "id": "cdbe8cd5",
   "metadata": {},
   "outputs": [
    {
     "name": "stdout",
     "output_type": "stream",
     "text": [
      "Jarak Manhattan :  6\n"
     ]
    }
   ],
   "source": [
    "# 2. Hitunglah jarak Manhattan antara Vektor A dan Vektor B.\n",
    "# Rumus jarak manhattan = |A1 - B1| + |A2 - B2| + |A3 - B3|\n",
    "\n",
    "jarak_manhattan = abs(2 - 3) + abs(4 - 1) + abs(7 - 5)\n",
    "print(\"Jarak Manhattan : \", jarak_manhattan)"
   ]
  },
  {
   "cell_type": "code",
   "execution_count": 12,
   "id": "e13b6aeb",
   "metadata": {},
   "outputs": [
    {
     "name": "stdout",
     "output_type": "stream",
     "text": [
      "Jarak Minkowski: 3.3019272488946263\n"
     ]
    }
   ],
   "source": [
    "# 3. Hitunglah jarak Minkowski (dengan p = 3) antara Vektor A dan Vektor B.\n",
    "\n",
    "# Rumus Jarak Minkowski = (∑(|Ai - Bi|^p))^1/p\n",
    "\n",
    "# Koordinat titik pertama\n",
    "A1, A2, A3 = 2, 4, 7\n",
    "\n",
    "# Koordinat titik kedua\n",
    "B1, B2, B3 = 3, 1, 5\n",
    "\n",
    "# Parameter p\n",
    "p = 3\n",
    "\n",
    "# Menghitung nilai absolut dalam setiap dimensi\n",
    "abs_A1 = abs(A1 - B1)\n",
    "abs_A2 = abs(A2 - B2)\n",
    "abs_A3 = abs(A3 - B3)\n",
    "\n",
    "# Hitung jarak Minkowski\n",
    "jarak_minkowski = ((abs_A1 ** p + abs_A2 ** p + abs_A3 ** p) ** (1/p))\n",
    "\n",
    "print(\"Jarak Minkowski:\", jarak_minkowski)\n"
   ]
  },
  {
   "cell_type": "markdown",
   "id": "a5a1ccf5",
   "metadata": {},
   "source": [
    "#### 4. Bandingkan hasil perhitungan jarak di atas dan berikan analisis tentang perbedaan hasil yang Anda temukan.\\\n",
    "\n",
    "perhitungan paling kecil dihasilkan dari penggunaan metode minkowski. Minkowski juga sangat cocok digunakan untuk trining model\n",
    "meskipun manhattan paling mudah dipahami cara perhitungannya\n"
   ]
  },
  {
   "cell_type": "markdown",
   "id": "e7eb778c",
   "metadata": {},
   "source": [
    "##### 5. Hitunglah dot product (produk dot) antara Vektor B dan Vektor C. \n",
    "#### Tentukan apakah dot product antara Vektor A dan Vektor B adalah positif, negatif, atau nol. \n",
    "#### Jelaskan arti dari hasil yang Anda dapatkan.\n"
   ]
  },
  {
   "cell_type": "code",
   "execution_count": 73,
   "id": "c9a13b58",
   "metadata": {},
   "outputs": [
    {
     "name": "stdout",
     "output_type": "stream",
     "text": [
      "Dot product Vektor B dan Vektor C = 49\n",
      "Dot product Vektor A dan Vektor B = 45\n"
     ]
    }
   ],
   "source": [
    "print(\"Dot product Vektor B dan Vektor C =\",(3*1)+(1*6)+(5*8))\n",
    "print(\"Dot product Vektor A dan Vektor B =\",(2*3)+(4*1)+(7*5))"
   ]
  },
  {
   "cell_type": "markdown",
   "id": "dc73b010",
   "metadata": {},
   "source": [
    "arah vektornya sama, jaraknya saling berdekatan dan kemungkinan memiliki titik nilai yang sama"
   ]
  },
  {
   "cell_type": "markdown",
   "id": "c3d85abe",
   "metadata": {},
   "source": [
    "#### 6. Kesimpulannya, apa yang dapat Anda simpulkan dari perhitungan jarak vektor antara Vektor A, B, dan C? \n",
    "#### Apa yang dapat Anda simpulkan dari hasil dot product antara Vektor B dan C dalam konteks analisis data?"
   ]
  },
  {
   "cell_type": "markdown",
   "id": "ac911189",
   "metadata": {},
   "source": [
    "arah, \n",
    "similarity, \n",
    "Jarak vektor bisa digunakan untuk mengukur kemiripan antaran 2 data, semakin kecil semakin mirip semakin besar semain tidak mirip,\n",
    "dot product bisa digunakan untuk mengukur keterkaitan antar data\n"
   ]
  },
  {
   "cell_type": "markdown",
   "id": "d97b85b9",
   "metadata": {},
   "source": [
    "SOAL 3"
   ]
  },
  {
   "cell_type": "code",
   "execution_count": 16,
   "id": "d20b379d",
   "metadata": {},
   "outputs": [
    {
     "name": "stdout",
     "output_type": "stream",
     "text": [
      "Berikut adalah data untuk 5 penjualan rumah:\n"
     ]
    },
    {
     "data": {
      "text/html": [
       "<div>\n",
       "<style scoped>\n",
       "    .dataframe tbody tr th:only-of-type {\n",
       "        vertical-align: middle;\n",
       "    }\n",
       "\n",
       "    .dataframe tbody tr th {\n",
       "        vertical-align: top;\n",
       "    }\n",
       "\n",
       "    .dataframe thead th {\n",
       "        text-align: right;\n",
       "    }\n",
       "</style>\n",
       "<table border=\"1\" class=\"dataframe\">\n",
       "  <thead>\n",
       "    <tr style=\"text-align: right;\">\n",
       "      <th></th>\n",
       "      <th>X1</th>\n",
       "      <th>X2</th>\n",
       "      <th>Y</th>\n",
       "    </tr>\n",
       "  </thead>\n",
       "  <tbody>\n",
       "    <tr>\n",
       "      <th>0</th>\n",
       "      <td>1500</td>\n",
       "      <td>3</td>\n",
       "      <td>250</td>\n",
       "    </tr>\n",
       "    <tr>\n",
       "      <th>1</th>\n",
       "      <td>2000</td>\n",
       "      <td>4</td>\n",
       "      <td>300</td>\n",
       "    </tr>\n",
       "    <tr>\n",
       "      <th>2</th>\n",
       "      <td>1200</td>\n",
       "      <td>2</td>\n",
       "      <td>180</td>\n",
       "    </tr>\n",
       "    <tr>\n",
       "      <th>3</th>\n",
       "      <td>1800</td>\n",
       "      <td>3</td>\n",
       "      <td>220</td>\n",
       "    </tr>\n",
       "    <tr>\n",
       "      <th>4</th>\n",
       "      <td>1600</td>\n",
       "      <td>2</td>\n",
       "      <td>200</td>\n",
       "    </tr>\n",
       "  </tbody>\n",
       "</table>\n",
       "</div>"
      ],
      "text/plain": [
       "     X1  X2    Y\n",
       "0  1500   3  250\n",
       "1  2000   4  300\n",
       "2  1200   2  180\n",
       "3  1800   3  220\n",
       "4  1600   2  200"
      ]
     },
     "execution_count": 16,
     "metadata": {},
     "output_type": "execute_result"
    }
   ],
   "source": [
    "# Simple Linear Regression and Multiple Linear Regression\n",
    "# Anda memiliki data penjualan rumah yang melibatkan dua variabel independen (X) dan satu \n",
    "# variabel dependen (Y).\n",
    "# - Variabel X1: Luas Tanah (dalam meter persegi)\n",
    "# - Variabel X2: Jumlah Kamar Tidur\n",
    "# - Variabel Y: Harga Penjualan Rumah (dalam ribu dollar)\n",
    "\n",
    "import pandas as pd\n",
    "\n",
    "# Membuat dictionary dengan data Anda\n",
    "data = {\n",
    "    'X1': [1500, 2000, 1200, 1800, 1600],\n",
    "    'X2': [3, 4, 2, 3, 2],\n",
    "    'Y': [250, 300, 180, 220, 200]\n",
    "}\n",
    "\n",
    "# Membuat DataFrame dari dictionary\n",
    "soal3 = pd.DataFrame(data)  # Perhatikan perubahan nama DataFrame\n",
    "\n",
    "# Menampilkan DataFrame\n",
    "print(\"Berikut adalah data untuk 5 penjualan rumah:\")\n",
    "soal3 # Menggunakan print untuk menampilkan DataFrame"
   ]
  },
  {
   "cell_type": "code",
   "execution_count": 47,
   "id": "21410235",
   "metadata": {},
   "outputs": [
    {
     "name": "stdout",
     "output_type": "stream",
     "text": [
      "Persamaan regresi linear: Y = 36.30434782608694 + 0.11956521739130435\n"
     ]
    }
   ],
   "source": [
    "# 1. Hitunglah persamaan regresi linear sederhana dengan X1 sebagai prediktor.\n",
    "\n",
    "# Rumus regresi linear Y=a + bX\n",
    "\n",
    "# Y adalah variabel dependen (Harga Penjualan Rumah).\n",
    "# X adalah variabel independen (Luas Tanah).\n",
    "# a adalah intercept.\n",
    "# b adalah koefisien regresi.\n",
    "\n",
    "# rumus koefisien regresi b= (∑(X - MEAN_X)(Y-MEAN_Y)) / (∑(X - MEAN_X)^2)\n",
    "# rumus intercept a = MEAN_Y - b * MEAN_X\n",
    "\n",
    "\n",
    "mean_X1 = (1500 + 2000 + 1200 + 1800 + 1600) / 5\n",
    "mean_Y = (250 + 300 + 180 + 220 + 200) / 5\n",
    "\n",
    "numerator = ((1500 - mean_X1) * (250 - mean_Y) + (2000 - mean_X1) * (300 - mean_Y) + (1200 - mean_X1) * (180 - mean_Y) + (1800 - mean_X1) * (220 - mean_Y) + (1600 - mean_X1) * (200 - mean_Y))\n",
    "denominator = ((1500 - mean_X1) ** 2 + (2000 - mean_X1) ** 2 + (1200 - mean_X1) ** 2 + (1800 - mean_X1) ** 2 + (1600 - mean_X1) ** 2)\n",
    "\n",
    "b = numerator / denominator\n",
    "\n",
    "a = mean_Y - b * mean_X1\n",
    "\n",
    "print(\"Persamaan regresi linear: Y =\", a, \"+\", b)\n"
   ]
  },
  {
   "cell_type": "code",
   "execution_count": 18,
   "id": "3914e5fe",
   "metadata": {},
   "outputs": [
    {
     "name": "stdout",
     "output_type": "stream",
     "text": [
      "R Square : 0.5978260869565216\n"
     ]
    }
   ],
   "source": [
    "#2. Tentukan koefisien determinasi (R-squared) dari model regresi.\n",
    "\n",
    "#rumus R-Square R = 1 - SSE /SST\n",
    "\n",
    "Y_pred1 = a + b * 1500\n",
    "Y_pred2 = a + b * 2000\n",
    "Y_pred3 = a + b * 1200\n",
    "Y_pred4 = a + b * 1800\n",
    "Y_pred5 = a + b * 1600\n",
    "\n",
    "\n",
    "SSE = (250 - Y_pred1) ** 2 + (300 - Y_pred2) ** 2 + (180 - Y_pred3) ** 2 + (220 - Y_pred4) ** 2 + (200 - Y_pred5) ** 2\n",
    "SST = (250 - mean_Y) ** 2 + (300 - mean_Y) ** 2 + (180 - mean_Y) ** 2 + (220 - mean_Y) ** 2 + (200 - mean_Y) ** 2\n",
    "\n",
    "R_square = 1 - SSE / SST\n",
    "print(\"R Square :\", R_square)"
   ]
  },
  {
   "cell_type": "code",
   "execution_count": 19,
   "id": "33a198fd",
   "metadata": {},
   "outputs": [
    {
     "name": "stdout",
     "output_type": "stream",
     "text": [
      "Jika luas tanah 1400 m maka harganya adalah : $ 203.69565217391303\n"
     ]
    }
   ],
   "source": [
    "#3. Jika luas tanah (X1) adalah 1400 meter persegi, berapakah perkiraan harga penjualan rumahnya?\n",
    "\n",
    "Y_pred = a + b * 1400\n",
    "print(\"Jika luas tanah 1400 m maka harganya adalah : $\", Y_pred)"
   ]
  },
  {
   "cell_type": "code",
   "execution_count": 20,
   "id": "bb298ace",
   "metadata": {},
   "outputs": [
    {
     "name": "stdout",
     "output_type": "stream",
     "text": [
      "persamaan regresi linear ganda X1 dan X2:  -113.69565217391306 + 0.11956521739130435 + 53.57142857142858\n"
     ]
    }
   ],
   "source": [
    "#4. Hitunglah persamaan regresi linear ganda dengan X1 dan X2 sebagai prediktor\n",
    "\n",
    "#rumus regresi linear ganda Y = intercept + (b1 * mean_X1) + (b2 * mean_X2)\n",
    "\n",
    "mean_X2 = (3 + 4 + 2 + 3 + 2) / 5\n",
    "\n",
    "b1 = ((1500-mean_X1) * (250-mean_Y) + (2000-mean_X1) * (300-mean_Y) + (1200-mean_X1) * (180-mean_Y) + (1800-mean_X1) * (220-mean_Y) + (1600-mean_X1) * (200-mean_Y)) \\\n",
    "  / (((1500 - mean_X1)**2) + ((2000 - mean_X1)**2) + ((1200 - mean_X1)**2) + ((1800 - mean_X1)**2) + ((1600 - mean_X1)**2))\n",
    "\n",
    "\n",
    "b2 = ((3-mean_X2) * (250-mean_Y) + (4-mean_X2) * (300-mean_Y) + (2-mean_X2) * (180-mean_Y) + (3-mean_X2) * (220-mean_Y) + (2-mean_X2) * (200-mean_Y)) \\\n",
    "   / (((3 - mean_X2)**2) + ((4 - mean_X2)**2) + ((2 - mean_X2)**2) + ((3 - mean_X2)**2) + ((2 - mean_X2)**2))\n",
    " \n",
    "\n",
    "intercept = mean_Y - (b1 * mean_X1) - (b2 * mean_X2)\n",
    "\n",
    "print(\"persamaan regresi linear ganda X1 dan X2: \", intercept, \"+\", b1, \"+\", b2)\n",
    " "
   ]
  },
  {
   "cell_type": "code",
   "execution_count": 21,
   "id": "bd8e5031",
   "metadata": {},
   "outputs": [
    {
     "name": "stdout",
     "output_type": "stream",
     "text": [
      "R-squared: 271.1744623523924\n",
      "2386335.268701053\n",
      "8800.0\n"
     ]
    }
   ],
   "source": [
    "#5. Tentukan koefisien determinasi (R-squared) dari model regresi ganda.\n",
    "\n",
    "#rumus R-squared = SSR / SST\n",
    "\n",
    "# Hitung nilai Y_predi untuk setiap data point\n",
    "Y_pred1 = intercept - (b1 * 1500) - (b2 * 3)\n",
    "Y_pred2 = intercept - (b1 * 2000) - (b2 * 4)\n",
    "Y_pred3 = intercept - (b1 * 1200) - (b2 * 2)\n",
    "Y_pred4 = intercept - (b1 * 1800) - (b2 * 3)\n",
    "Y_pred5 = intercept - (b1 * 1600) - (b2 * 2)\n",
    "\n",
    "# Hitung jumlah kuadrat total (SST)\n",
    "SST = (250 - mean_Y) ** 2 + (300 - mean_Y) ** 2 + (180 - mean_Y) ** 2 + (220 - mean_Y) ** 2 + (200 - mean_Y) ** 2\n",
    "\n",
    "# Hitung jumlah kuadrat regresi (SSR)\n",
    "SSR = (Y_pred1 - mean_Y) ** 2 + (Y_pred2 - mean_Y) ** 2 + (Y_pred3 - mean_Y) ** 2 + (Y_pred4 - mean_Y) ** 2 + (Y_pred5 - mean_Y) ** 2\n",
    "\n",
    "#SSR = (250 - Y_pred1) ** 2 + (300 - Y_pred2) ** 2 + (180 - Y_pred3 ) ** 2 + (220 - Y_pred4 ) ** 2 + (200 - Y_pred5 )\n",
    "# Hitung R-squared\n",
    "R_squared = SSR / SST\n",
    "print(\"R-squared:\", R_squared)\n",
    "\n",
    "print(SSR)\n",
    "print(SST)"
   ]
  },
  {
   "cell_type": "code",
   "execution_count": 22,
   "id": "8d0a45bf",
   "metadata": {},
   "outputs": [
    {
     "name": "stdout",
     "output_type": "stream",
     "text": [
      "Harga Jual:  160.83850931677017\n"
     ]
    }
   ],
   "source": [
    "#6. Jika luas tanah (X1) adalah 1400 meter persegi dan jumlah kamar tidur (X2) adalah 2, berapakah perkiraan harga penjualan rumahnya?\n",
    "# Y=intercept+(b1⋅X1)+(b2⋅X2)\n",
    "\n",
    "Y = intercept + (b1 * 1400) + (b2 * 2)\n",
    "print(\"Harga Jual: \", Y)"
   ]
  },
  {
   "cell_type": "markdown",
   "id": "23403db0",
   "metadata": {},
   "source": [
    "#### 7. Bandingkan hasil dari regresi linear sederhana (Bagian A) dan regresi linear ganda (Bagian B). \n",
    "#### Apa kesimpulan yang dapat Anda ambil tentang kualitas model dan faktor-faktor yang memengaruhi harga penjualan rumah?\n",
    "\n",
    "pada bagian A faktor yang memengaruhi harga penjualan rumah hanya intercept dan koefisien regresi yang mrnjadikan harga yang dihasilkan pada bagian pertama menjadi lebih mahal, tetapi pada bagian kedua yang memngaruhi terdapat banyak faktor yaitu hasil regrese = intercept dan koefisien regresi maisng-masing faktor X1 dan X2 yang harus di kalikan dengan kedua faktor tersebut dan karena faktor tersebut maka harga memnjadi lebih murah.\n"
   ]
  },
  {
   "cell_type": "markdown",
   "id": "785ef7ae",
   "metadata": {},
   "source": [
    "SOAL 4"
   ]
  },
  {
   "cell_type": "code",
   "execution_count": 51,
   "id": "7946b4b9",
   "metadata": {},
   "outputs": [
    {
     "name": "stdout",
     "output_type": "stream",
     "text": [
      "H(Y):  0.97\n"
     ]
    }
   ],
   "source": [
    "#1. Hitunglah entropi (H(Y)) dari target Y pada dataset ini\n",
    "\n",
    "# rumus H(Y)= −(pY0∗log2(pY=0) + pY=1∗log2(pY=1))\n",
    "\n",
    "#pY0 = 3/5 = 0.6\n",
    "#pY1 = 2/5 = 0.4\n",
    "\n",
    "#H(Y) = -(0.6 * Log2(0.6) + 0.4 * Log(0.4))\n",
    "entropi = -(0.6 * (-0.736) + 0.4 * (-1.321))\n",
    "print(\"H(Y): \", entropi)\n"
   ]
  },
  {
   "cell_type": "code",
   "execution_count": 92,
   "id": "195eb0b3",
   "metadata": {},
   "outputs": [
    {
     "name": "stdout",
     "output_type": "stream",
     "text": [
      "-0.0  +  -0.0\n",
      "entropi:  0.0\n"
     ]
    }
   ],
   "source": [
    "#2. Hitunglah entropi (H(Y|X1)) dari target Y berdasarkan fitur X1.\n",
    "\n",
    "#langkah pertama data dibagi menjadi 2 kelompok <=35 dan >35\n",
    "\n",
    "#KELOMPOK 1\n",
    "\n",
    "#P(Y = 0|X1 <= 35) = jumlah data Y = 0 / jumlah data dalam kelompok = 3/3 = 1\n",
    "#P(Y = 1|X1 <= 35) = jumlah data Y = 1 / jumlah data dalam kelompok = 0/3 = 0\n",
    "\n",
    "#KELOMPOK 2\n",
    "\n",
    "#P(Y = 0|X1 > 35) = jumlah data Y = 0 / jumlah data dalam kelompok = 0/2 = 0\n",
    "#P(Y = 1|X1 > 35) = jumlah data Y = 1 / jumlah data dalam kelompok = 2/2 = 1\n",
    "\n",
    "#k=2\n",
    "\n",
    "entropi1 = -((1.0 * 0) + (0.0 * 0))\n",
    "entropi2 = -((0.0 * 0) + (1.0 * 0))\n",
    "print(entropi1, \" + \", entropi2)\n",
    "\n",
    "#Total \n",
    "#H(Y|X1) = jumlah data dalam kelompok1 / Total jumlah data * entropi1 + jumlah data dalam kelompok2 / Total jumlah data * entropi2\n",
    "entropi = 3/5 * 0.0 + 2/5 * 0.0\n",
    "print(\"entropi: \", entropi)\n",
    "\n"
   ]
  },
  {
   "cell_type": "code",
   "execution_count": 89,
   "id": "169aad58",
   "metadata": {},
   "outputs": [
    {
     "name": "stdout",
     "output_type": "stream",
     "text": [
      "-0.0  +  -0.0\n",
      "entropi:  0.0\n"
     ]
    }
   ],
   "source": [
    "#3. Hitunglah entropi (H(Y|X2)) dari target Y berdasarkan fitur X2.\n",
    "\n",
    "#langkah pertama data dibagi menjadi 2 kelompok <=35 dan >35\n",
    "\n",
    "#KELOMPOK 1\n",
    "\n",
    "#P(Y = 0|X1 <= 35) = jumlah data Y = 0 / jumlah data dalam kelompok = 3/3 = 1\n",
    "#P(Y = 1|X1 <= 35) = jumlah data Y = 1 / jumlah data dalam kelompok = 0/3 = 0\n",
    "\n",
    "#KELOMPOK 2\n",
    "\n",
    "#P(Y = 0|X1 > 35) = jumlah data Y = 0 / jumlah data dalam kelompok = 0/2 = 0\n",
    "#P(Y = 1|X1 > 35) = jumlah data Y = 1 / jumlah data dalam kelompok = 2/2 = 1\n",
    "\n",
    "#k=2\n",
    "\n",
    "entropi1 = -((1.0 * 0) + (0.0 * 0))\n",
    "entropi2 = -((0.0 * 0) + (1.0 * 0))\n",
    "print(entropi1, \" + \", entropi2)\n",
    "\n",
    "#Total \n",
    "#H(Y|X1) = jumlah data dalam kelompok1 / Total jumlah data * entropi1 + jumlah data dalam kelompok2 / Total jumlah data * entropi2\n",
    "entropi = 0.6 * 0.0 + 0.4 * 0.00\n",
    "print(\"entropi: \", entropi)"
   ]
  },
  {
   "cell_type": "markdown",
   "id": "97c3bc6b",
   "metadata": {},
   "source": [
    "#### 4. Apa makna hasil entropi yang Anda hitung dalam konteks pengambilan keputusan?\n",
    "\n",
    "Hasil yang didapatkan adalah 0 jadi, semua sampel pada node tersebut termasuk dalam kelas yang sama, dan tidak ada ketidakpastian dalam pengklasifikasian. Ini adalah kondisi yang diinginkan dalam pohon keputusan, karena itu berarti bahwa keputusan di tingkat node tersebut sangat jelas, dan kita tidak perlu melakukan pembagian lebih lanjut."
   ]
  },
  {
   "cell_type": "code",
   "execution_count": 87,
   "id": "a1811aa0",
   "metadata": {},
   "outputs": [
    {
     "name": "stdout",
     "output_type": "stream",
     "text": [
      "Gini Impurity:  0.48\n"
     ]
    }
   ],
   "source": [
    "#5. Hitunglah Gini impurity (Gini(Y)) dari target Y pada dataset ini.\n",
    "\n",
    "#pY0 = 3/5 = 0.6\n",
    "#pY1 = 2/5 = 0.4\n",
    "\n",
    "Gini = 1 - (0.6 ** 2 + (0.4) ** 2)\n",
    "print(\"Gini Impurity: \", Gini)"
   ]
  },
  {
   "cell_type": "code",
   "execution_count": 93,
   "id": "4088fbb1",
   "metadata": {},
   "outputs": [
    {
     "name": "stdout",
     "output_type": "stream",
     "text": [
      "giniD1 :  0.6666666666666667\n",
      "giniD2 :  0.5\n"
     ]
    }
   ],
   "source": [
    "#6. Hitunglah Gini impurity (Gini(Y|X1)) dari target Y berdasarkan fitur X1.\n",
    "\n",
    "#langkah pertama data dibagi menjadi 2 kelompok <=35 dan >35\n",
    "\n",
    "#KELOMPOK 1\n",
    "\n",
    "#P(Y = 0|X1 <= 35) = jumlah data Y = 0 / jumlah data dalam kelompok = 3/3 = 1\n",
    "#P(Y = 1|X1 <= 35) = jumlah data Y = 1 / jumlah data dalam kelompok = 0/3 = 0\n",
    "\n",
    "#KELOMPOK 2\n",
    "\n",
    "#P(Y = 0|X1 > 35) = jumlah data Y = 0 / jumlah data dalam kelompok = 0/2 = 0\n",
    "#P(Y = 1|X1 > 35) = jumlah data Y = 1 / jumlah data dalam kelompok = 2/2 = 1\n",
    "\n",
    "giniD1 = 1 - ((3/3 ** 2 + 0/3 ** 2))\n",
    "print(\"giniD1 : \", giniD1)\n",
    "giniD2 = 1 - (0/2 ** 2 + 2/2 ** 2)\n",
    "print(\"giniD2 : \", giniD2)"
   ]
  },
  {
   "cell_type": "code",
   "execution_count": 69,
   "id": "dd9da6d2",
   "metadata": {},
   "outputs": [
    {
     "name": "stdout",
     "output_type": "stream",
     "text": [
      "giniD1 :  0.0\n",
      "giniD2 :  0.0\n",
      "Gini(Y∣X2) 0.0\n"
     ]
    }
   ],
   "source": [
    "#7. Hitunglah Gini impurity (Gini(Y|X2)) dari target Y berdasarkan fitur X2.\n",
    "\n",
    "#langkah pertama data dibagi menjadi 2 kelompok <=6 dan >6\n",
    "\n",
    "#KELOMPOK 1\n",
    "\n",
    "#P(Y = 0|X2 <= 6) = jumlah data Y = 0 / jumlah data dalam kelompok = 3/3 = 1\n",
    "#P(Y = 1|X2 <= 6) = jumlah data Y = 1 / jumlah data dalam kelompok = 0/3 = 0\n",
    "\n",
    "#KELOMPOK 2\n",
    "\n",
    "#P(Y = 0|X2 > 6) = jumlah data Y = 0 / jumlah data dalam kelompok = 0/2 = 0\n",
    "#P(Y = 1|X2 > 6) = jumlah data Y = 1 / jumlah data dalam kelompok = 2/2 = 1\n",
    "\n",
    "giniD1 = 1 - ((3/3) ** 2 + (0/3) ** 2)\n",
    "print(\"giniD1 : \", giniD1)\n",
    "giniD2 = 1 - ((0/2) ** 2 + (2/2) ** 2)\n",
    "print(\"giniD2 : \", giniD2)\n",
    "\n",
    "GiniImpurityX2 = 3/5 * 0.0 + 2/5 * 0.0\n",
    "print(\"Gini(Y∣X2)\", GiniImpurityX2)"
   ]
  },
  {
   "cell_type": "markdown",
   "id": "07f6da53",
   "metadata": {},
   "source": [
    "#### 8. Apa makna hasil Gini impurity yang Anda hitung dalam konteks pengambilan keputusan?\n",
    "\n",
    "Nilai Terendah: Jika Gini impurity sama dengan nol, itu berarti node tersebut sangat murni dan hanya berisi contoh dari satu kelas. Dalam konteks pohon keputusan, ini bisa menjadi titik di mana keputusan dianggap final.\n",
    "\n",
    "Nilai Tertinggi: Jika Gini impurity mencapai nilai maksimum (biasanya 0,5 atau 50%), itu berarti node tersebut sangat tidak murni dan berisi campuran dari semua kelas dengan proporsi yang sama. Ini menunjukkan ketidakpastian tinggi dalam pengklasifikasian."
   ]
  },
  {
   "cell_type": "markdown",
   "id": "1c363487",
   "metadata": {},
   "source": [
    "#### 9. Bandingkan hasil entropi dan Gini impurity untuk fitur X1 dan X2. \n",
    "#### Apa yang dapat Anda simpulkan tentang impurity fitur-fitur ini dalam klasifikasi pelanggan membeli atau tidak?\n",
    "\n",
    "\n",
    "semua sampel pada node tersebut termasuk dalam kelas mayoritas, dan tidak ada campuran kelas dalam node tersebut. Ini adalah kondisi yang diinginkan dalam pohon keputusan, karena itu berarti bahwa keputusan di tingkat node tersebut sangat jelas, dan kita dapat dengan yakin mengklasifikasikan data ke dalam kelas mayoritas tersebut.Hal ini menunjukkan bahwa node tersebut sangat murni dan sudah memisahkan data dengan sangat baik."
   ]
  },
  {
   "cell_type": "markdown",
   "id": "45922653",
   "metadata": {},
   "source": [
    "SOAL V DATASET 1"
   ]
  },
  {
   "cell_type": "code",
   "execution_count": 33,
   "id": "158cf0ca",
   "metadata": {},
   "outputs": [
    {
     "name": "stdout",
     "output_type": "stream",
     "text": [
      "Jarak_Euclidean1:  2.23606797749979\n",
      "Jarak_Euclidean2:  2.23606797749979\n",
      "Jarak_Euclidean3:  1.4142135623730951\n",
      "Jarak_Euclidean4:  2.23606797749979\n",
      "Jarak_Euclidean5:  4.47213595499958\n",
      "Jarak_Euclidean6:  3.1622776601683795\n",
      "Jarak_Euclidean7:  5.830951894845301\n"
     ]
    }
   ],
   "source": [
    "#1. Anda memiliki titik dengan fitur X1=5 dan X2=4. Hitunglah jarak antara titik ini dan semua titik dalam dataset menggunakan Euclidean distance.\n",
    "\n",
    "#Jarak_Euclidean = (x2−x1)** 2 + (y2−y1) ** 2 ** 0.5\n",
    " \n",
    "#1. Jarak antara (5, 4) dan titik 1 (3, 5):\n",
    "Jarak_Euclidean1 = ((3 - 5)** 2 + (5 - 4) ** 2) ** 0.5\n",
    "print(\"Jarak_Euclidean1: \", Jarak_Euclidean1)\n",
    "\n",
    "#2. Jarak antara (5, 4) dan titik 2 (4, 6):\n",
    "Jarak_Euclidean2 = ((4 - 5)** 2 + (6 - 4) ** 2) ** 0.5\n",
    "print(\"Jarak_Euclidean2: \", Jarak_Euclidean2)\n",
    "\n",
    "#3. Jarak antara (5, 4) dan titik 3 (6, 3):\n",
    "Jarak_Euclidean3 = ((6 - 5)** 2 + (3 - 4) ** 2) ** 0.5\n",
    "print(\"Jarak_Euclidean3: \", Jarak_Euclidean3)\n",
    "\n",
    "#4. Jarak antara (5, 4) dan titik 4 (7, 5):\n",
    "Jarak_Euclidean4 = ((7 - 5)** 2 + (5 - 4) ** 2) ** 0.5\n",
    "print(\"Jarak_Euclidean4: \", Jarak_Euclidean4)\n",
    "\n",
    "#5. Jarak antara (5, 4) dan titik 5 (9, 2):\n",
    "Jarak_Euclidean5 = ((9 - 5)** 2 + (2 - 4) ** 2) ** 0.5\n",
    "print(\"Jarak_Euclidean5: \", Jarak_Euclidean5)\n",
    "\n",
    "#6. Jarak antara (5, 4) dan titik 6 (8, 3): \n",
    "Jarak_Euclidean6 = ((8 - 5)** 2 + (3 - 4) ** 2) ** 0.5\n",
    "print(\"Jarak_Euclidean6: \", Jarak_Euclidean6)\n",
    "\n",
    "#7. Jarak antara (5, 4) dan titik 7 (2, 9):\n",
    "Jarak_Euclidean7 = ((2 - 5)** 2 + (9 - 4) ** 2) ** 0.5\n",
    "print(\"Jarak_Euclidean7: \", Jarak_Euclidean7)\n",
    "\n"
   ]
  },
  {
   "cell_type": "markdown",
   "id": "7e492c13",
   "metadata": {},
   "source": [
    "#### 2. Pilihlah k=3. Identifikasi 3 tetangga terdekat dari titik ini berdasarkan Euclidean distance.\n",
    "\n",
    "JAWABAN\n",
    "\n",
    "tetangga terdekat bisa diidentifikasi melalui nilai terkecil yang dihasilkan dari oerhitungan jarak sebelumnya. maka dihasilkan:\n",
    "1. Jarak_Euclidean3:  1.4142135623730951\n",
    "2. Jarak_Euclidean2:  2.23606797749979\n",
    "3. Jarak_Euclidean4:  2.23606797749979\n",
    "\n",
    "Jadi, 3 tetangga terdekat dari titik (5, 4) berdasarkan Euclidean distance dengan k=3 adalah Titik 3 = Jarak_Euclidean3, Titik 2 = Jarak_Euclidean2, dan Titik 4 = Jarak_Euclidean4.\n"
   ]
  },
  {
   "cell_type": "markdown",
   "id": "07b79ba4",
   "metadata": {},
   "source": [
    "#### 3. Berdasarkan mayoritas k tetangga terdekat, klasifikasikan titik ini sebagai \"A\" atau \"B\" jika k=3.\n",
    "\n",
    "sebelumnya sudah diidentifikasi 3 tetangga terdekat dari titik (5, 4) berdasarkan Euclidean distance. Ini adalah titik 3, titik 1, dan titik 2.\n",
    "\n",
    "Titik 3 (6, 3): Jarak dari titik (5, 4) ke titik 3 adalah √2 = 1.4142135623730951. Kelas dari titik 3 adalah \"B.\"\n",
    "Titik 2 (4, 6): Jarak dari titik (5, 4) ke titik 2 adalah √5 = 2.23606797749979. Kelas dari titik 2 adalah \"A.\"\n",
    "Titik 4 (7, 5): Jarak dari titik (5, 4) ke titik 4 adalah √5 = 2.23606797749979. Kelas dari titik 4 adalah \"A.\"\n",
    "\n",
    "\n",
    "\n",
    "Sekarang, kita perlu menentukan mayoritas kelas dari ketiga tetangga terdekat. Dalam kasus ini, kita memiliki dua tetangga dengan kelas \"A\" dan satu tetangga dengan kelas \"B.\" Dengan k=3, kita memilih kelas mayoritas sebagai prediksi untuk titik (5, 4).\n",
    "\n",
    "Karena kelas \"A\" muncul dua kali (mayoritas) dan kelas \"B\" hanya muncul satu kali, maka kita mengklasifikasikan titik (5, 4) sebagai \"A\" berdasarkan mayoritas kelas dari ketiga tetangga terdekat."
   ]
  },
  {
   "cell_type": "markdown",
   "id": "0b262aa0",
   "metadata": {},
   "source": [
    "SOAL V DATASET 2"
   ]
  },
  {
   "cell_type": "code",
   "execution_count": 19,
   "id": "07bfd4a5",
   "metadata": {},
   "outputs": [
    {
     "name": "stdout",
     "output_type": "stream",
     "text": [
      "w:  (-1.6666666666666667, -2)\n",
      "b:  -1.2222222222222223\n"
     ]
    }
   ],
   "source": [
    "#1. Hitunglah vektor bobot dan koefisien bias dari model SVM linear yang memisahkan data ini.\n",
    "\n",
    "#membagi data menggunakan hyperplane\n",
    "\n",
    "#Menghitung vektor bobot (w)\n",
    "\n",
    "Xpositif1 = (1+2+2) / 3\n",
    "Xpositif2 = (2+3+1) / 3\n",
    "Xnegatif1 = (3+3+4) / 3\n",
    "Xnegatif2 = (3+3+4) / 3\n",
    "\n",
    "#w = Xpositif - Xnegatif\n",
    "w = (-5/3 , -2)\n",
    "print(\"w: \", w)\n",
    "\n",
    "#Menghitung koefisien bias (b)\n",
    "#b = −w * XPositif\n",
    "\n",
    "#b = - (w[0] * XPositif[0] + w[1] * XPositif[1])\n",
    "#b = -((-5/3, -2) * (5/3, 2)) + ((5/3, 2) * (5/3, 2))\n",
    "b = -11/9\n",
    "\n",
    "print(\"b: \", b)\n",
    "\n",
    "\n",
    " "
   ]
  },
  {
   "cell_type": "code",
   "execution_count": 21,
   "id": "c621ddc6",
   "metadata": {},
   "outputs": [
    {
     "name": "stdout",
     "output_type": "stream",
     "text": [
      "M :  0.8571428571428571\n"
     ]
    }
   ],
   "source": [
    "#2. Identifikasi margin maksimum dari model SVM yang Anda hitung.\n",
    "\n",
    "#M = 2 / ||w||\n",
    "w = (-5/3 , -2)\n",
    "\n",
    "#||w|| = (-1.6666666666666667) ** 2 + (-2) ** 2\n",
    "Wmut = 7/3\n",
    "\n",
    "#M = 2 / Wmut\n",
    "M = 6/7\n",
    "\n",
    "print(\"M : \", M)\n"
   ]
  },
  {
   "cell_type": "code",
   "execution_count": 26,
   "id": "430c084a",
   "metadata": {},
   "outputs": [
    {
     "name": "stdout",
     "output_type": "stream",
     "text": [
      "Positif:  6.190476190476191\n",
      "Negatif:  11.523809523809524\n"
     ]
    }
   ],
   "source": [
    "#3. Bagi data yang berada di dekat margin, tentukan apakah mereka adalah data positif atau negatif.\n",
    "\n",
    "#Data (1,2) adalah data \"Positif\":\n",
    "#Jarak= ∣w * x + b∣ / ∥w∥\n",
    "JarakP = abs(-5/3 * 1 - 2 * 2) - (-11/9) / (7/3)\n",
    "print(\"Positif: \", JarakP)\n",
    "\n",
    "#Data (3,3) adalah data \"Negatif\":\n",
    "JarakN = abs(-5/3 * 3 - 2 * 3) - (-11/9) / (7/3)\n",
    "print(\"Negatif: \", JarakN)"
   ]
  },
  {
   "cell_type": "markdown",
   "id": "9ff5a532",
   "metadata": {},
   "source": [
    "SOAL VI"
   ]
  },
  {
   "cell_type": "code",
   "execution_count": 71,
   "id": "485ed5cd",
   "metadata": {},
   "outputs": [
    {
     "name": "stdout",
     "output_type": "stream",
     "text": [
      "P(Spam) :  0.6\n",
      "P(Bukan Spam) :  0.4\n"
     ]
    }
   ],
   "source": [
    "#1. Hitunglah probabilitas prior (P(Spam) dan P(Bukan Spam)) berdasarkan jumlah email spam dan bukan spam dalam dataset.\n",
    "\n",
    "#Nspam = Jumlah email yang adalah spam = 3\n",
    "#Nnonspam = Jumlah email yang bukan spam = 2\n",
    "#Ntotal = 5\n",
    "\n",
    "#P(Spam) = Nspam / Ntotal\n",
    "spam = 3 / 5\n",
    "print(\"P(Spam) : \", spam)\n",
    "\n",
    "#P(Bukan Spam) = Nnonspam / Ntotal\n",
    "BukanSpam = 2 / 5\n",
    "print(\"P(Bukan Spam) : \", BukanSpam)"
   ]
  },
  {
   "cell_type": "code",
   "execution_count": 38,
   "id": "85d86ddd",
   "metadata": {},
   "outputs": [],
   "source": [
    "#2. Hitunglah probabilitas likelihood P(Kata | Spam) dan P(Kata | Bukan Spam) untuk kata \"produk\" dan \"hadiah.\"\n",
    "\n",
    "#P(produk | Spam) = (Jumlah kemunculan \"produk\" dalam email Spam) / (Total email Spam)\n",
    "produkSpam = 1 / 3\n",
    "produkBukanSpam = 0 / 2\n",
    "hadiahSpam = 1 / 3\n",
    "hadiahBukan Spam = 0 / 2\n",
    "kataSpam = \n",
    "kataBukanSpam = "
   ]
  },
  {
   "cell_type": "markdown",
   "id": "28c48faa",
   "metadata": {},
   "source": [
    "#### 3. Gunakan metode Naive Bayes untuk mengklasifikasikan email \"Promo spesial hanya hari ini!\" apakah spam atau bukan spam.\n",
    "\n",
    "karena \"Promo spesial hanya hari ini!\" memiliki label \"1\" maka ia adlah spam"
   ]
  },
  {
   "cell_type": "markdown",
   "id": "18762546",
   "metadata": {},
   "source": [
    "#### 4. Jelaskan apa yang dimaksud dengan \"Naive\" dalam Naive Bayes Classifier dan mengapa metode ini dapat diklasifikasikan sebagai metode probabilistik.\n",
    "\n",
    "\"Naive\" dalam Naive Bayes Classifier merujuk pada asumsi yang digunakan dalam metodenya. Secara khusus, ini mengacu pada asumsi bahwa semua atribut atau fitur yang digunakan untuk mengklasifikasikan data adalah independen satu sama lain. Ini berarti bahwa dalam konteks Bayesian Naive Bayes, asumsi ini menyiratkan bahwa tidak ada korelasi antara atribut-atribut tersebut. Dalam kasus di mana asumsi ini benar, metode ini disebut \"naive\" karena kenyataannya dalam banyak situasi nyata, atribut atau fitur tidak selalu benar-benar independen satu sama lain. Namun, meskipun asumsi ini sederhana, Naive Bayes sering kali memberikan hasil yang baik dalam banyak masalah klasifikasi, terutama dalam analisis teks dan klasifikasi dokumen."
   ]
  },
  {
   "cell_type": "markdown",
   "id": "9c43314f",
   "metadata": {},
   "source": [
    "SOAL VII"
   ]
  },
  {
   "cell_type": "code",
   "execution_count": 31,
   "id": "624c7e0c",
   "metadata": {},
   "outputs": [
    {
     "name": "stdout",
     "output_type": "stream",
     "text": [
      "Akurasi Decision Tree:  1.0\n",
      "Akurasi KNN:  0.8571428571428571\n",
      "Akurasi SVM:  1.0\n",
      "Akurasi Naive-Bayes Classifier:  1.0\n"
     ]
    }
   ],
   "source": [
    "#1. Hitunglah Akurasi (Accuracy) dari masing-masing model.\n",
    "\n",
    "import numpy as np\n",
    "from sklearn.tree import DecisionTreeClassifier\n",
    "\n",
    "data = np.array([[25, 4, 0], [30, 5, 0], [35, 6, 0], [40, 7, 1], [45, 8, 1]])\n",
    "\n",
    "label = np.array([0, 0, 0, 1, 1])\n",
    "\n",
    "clf = DecisionTreeClassifier()\n",
    "clf.fit(data, label)\n",
    "prediction = clf.predict(data)\n",
    "\n",
    "accuracy_decision_tree = np.sum(prediction == label) / len(label)\n",
    "print(\"Akurasi Decision Tree: \", accuracy_decision_tree)\n",
    "\n",
    "                 \n",
    "from sklearn.neighbors import KNeighborsClassifier\n",
    "\n",
    "X1 = [3, 4, 6, 7, 9, 8, 2]\n",
    "X2 = [5, 6, 3, 5, 2, 3, 9]\n",
    "Y = [\"A\", \"A\", \"B\", \"B\", \"B\", \"A\", \"A\"]\n",
    "\n",
    "data_knn = np.column_stack((X1, X2))\n",
    "label_knn = np.array(Y)\n",
    "\n",
    "knn = KNeighborsClassifier(n_neighbors=3)\n",
    "knn.fit(data_knn, label_knn)\n",
    "prediction_knn = knn.predict(data_knn)\n",
    "\n",
    "accuracy_knn = np.sum(prediction_knn == label_knn) / len(label_knn)\n",
    "print(\"Akurasi KNN: \", accuracy_knn)\n",
    "\n",
    "                 \n",
    "from sklearn.svm import SVC\n",
    "\n",
    "X1_svm = [1, 2, 2, 3, 3, 4]\n",
    "X2_svm = [2, 3, 1, 4, 3, 5]\n",
    "Y_svm = [\"positif\", \"positif\", \"positif\", \"negatif\", \"negatif\", \"negatif\"]\n",
    "\n",
    "data_svm = np.column_stack((X1_svm, X2_svm))\n",
    "label_svm = np.array(Y_svm)\n",
    "\n",
    "svm = SVC(kernel='linear')\n",
    "svm.fit(data_svm, label_svm)\n",
    "prediction_svm = svm.predict(data_svm)\n",
    "\n",
    "accuracy_svm = np.sum(prediction_svm == label_svm) / len(label_svm)\n",
    "print(\"Akurasi SVM: \", accuracy_svm)\n",
    "\n",
    "                 \n",
    "from sklearn.feature_extraction.text import CountVectorizer\n",
    "from sklearn.naive_bayes import MultinomialNB\n",
    "\n",
    "Email = [\"Dapatkan produk super diskon!\", \"Peningkatan performa di tempat kerja Anda!\", \"Promo spesial hanya hari ini!\", \"Rapat penting di ruang konferensi\", \"Anda memenangkan hadiah besar!\"]\n",
    "Label = [1, 0, 1, 0, 1]\n",
    "\n",
    "count_vectorizer = CountVectorizer()\n",
    "X = count_vectorizer.fit_transform(Email)\n",
    "Y_ = np.array(Label)\n",
    "\n",
    "nb_classifier = MultinomialNB()\n",
    "nb_classifier.fit(X, Y_)\n",
    "prediction_naive = nb_classifier.predict(X)\n",
    "\n",
    "accuracy_naive = np.sum(prediction_naive == Y_) / len(Y_)\n",
    "print(\"Akurasi Naive-Bayes Classifier: \", accuracy_naive)\n"
   ]
  },
  {
   "cell_type": "code",
   "execution_count": 29,
   "id": "a4b1fa66",
   "metadata": {},
   "outputs": [
    {
     "ename": "NameError",
     "evalue": "name 'y_true' is not defined",
     "output_type": "error",
     "traceback": [
      "\u001b[1;31m---------------------------------------------------------------------------\u001b[0m",
      "\u001b[1;31mNameError\u001b[0m                                 Traceback (most recent call last)",
      "Cell \u001b[1;32mIn[29], line 9\u001b[0m\n\u001b[0;32m      3\u001b[0m \u001b[38;5;28;01mfrom\u001b[39;00m \u001b[38;5;21;01msklearn\u001b[39;00m\u001b[38;5;21;01m.\u001b[39;00m\u001b[38;5;21;01mmetrics\u001b[39;00m \u001b[38;5;28;01mimport\u001b[39;00m precision_score, recall_score, f1_score\n\u001b[0;32m      5\u001b[0m \u001b[38;5;66;03m# Misalkan y_true adalah data target yang sebenarnya, dan y_pred adalah hasil prediksi dari model\u001b[39;00m\n\u001b[0;32m      6\u001b[0m \u001b[38;5;66;03m# Anda perlu mengganti y_true dan y_pred dengan data Anda.\u001b[39;00m\n\u001b[0;32m      7\u001b[0m \n\u001b[0;32m      8\u001b[0m \u001b[38;5;66;03m# Precision\u001b[39;00m\n\u001b[1;32m----> 9\u001b[0m precision_decision_tree \u001b[38;5;241m=\u001b[39m precision_score(y_true, y_pred_decision_tree)\n\u001b[0;32m     10\u001b[0m precision_knn \u001b[38;5;241m=\u001b[39m precision_score(y_true, y_pred_knn)\n\u001b[0;32m     11\u001b[0m precision_svm \u001b[38;5;241m=\u001b[39m precision_score(y_true, y_pred_svm)\n",
      "\u001b[1;31mNameError\u001b[0m: name 'y_true' is not defined"
     ]
    }
   ],
   "source": [
    "#2. Hitunglah Precision, Recall, dan F1-Score dari masing-masing model.\n",
    "\n",
    "from sklearn.metrics import precision_score, recall_score, f1_score\n",
    "\n",
    "# Misalkan y_true adalah data target yang sebenarnya, dan y_pred adalah hasil prediksi dari model\n",
    "# Anda perlu mengganti y_true dan y_pred dengan data Anda.\n",
    "\n",
    "# Precision\n",
    "precision_decision_tree = precision_score(y_true, y_pred_decision_tree)\n",
    "precision_knn = precision_score(y_true, y_pred_knn)\n",
    "precision_svm = precision_score(y_true, y_pred_svm)\n",
    "precision_naive_bayes = precision_score(y_true, y_pred_naive_bayes)\n",
    "\n",
    "# Recall\n",
    "recall_decision_tree = recall_score(y_true, y_pred_decision_tree)\n",
    "recall_knn = recall_score(y_true, y_pred_knn)\n",
    "recall_svm = recall_score(y_true, y_pred_svm)\n",
    "recall_naive_bayes = recall_score(y_true, y_pred_naive_bayes)\n",
    "\n",
    "# F1-Score\n",
    "f1_score_decision_tree = f1_score(y_true, y_pred_decision_tree)\n",
    "f1_score_knn = f1_score(y_true, y_pred_knn)\n",
    "f1_score_svm = f1_score(y_true, y_pred_svm)\n",
    "f1_score_naive_bayes = f1_score(y_true, y_pred_naive_bayes)\n"
   ]
  },
  {
   "cell_type": "code",
   "execution_count": 32,
   "id": "569bf203",
   "metadata": {},
   "outputs": [
    {
     "name": "stdout",
     "output_type": "stream",
     "text": [
      "Confusion Matrix Decision Tree:\n",
      " [[3 0]\n",
      " [0 2]]\n",
      "\n",
      "Confusion Matrix KNN:\n",
      " [[3 1]\n",
      " [0 3]]\n",
      "\n",
      "Confusion Matrix SVM:\n",
      " [[3 0]\n",
      " [0 3]]\n",
      "\n",
      "Confusion Matrix Naive Bayes:\n",
      " [[2 0]\n",
      " [0 3]]\n"
     ]
    }
   ],
   "source": [
    "#3. Buatlah confusion matrix untuk masing-masing model.\n",
    "\n",
    "from sklearn.metrics import confusion_matrix\n",
    "\n",
    "# Decision Tree\n",
    "confusion_matrix_decision_tree = confusion_matrix(label, prediction)\n",
    "print(\"Confusion Matrix Decision Tree:\\n\", confusion_matrix_decision_tree)\n",
    "\n",
    "# KNN\n",
    "confusion_matrix_knn = confusion_matrix(label_knn, prediction_knn)\n",
    "print(\"\\nConfusion Matrix KNN:\\n\", confusion_matrix_knn)\n",
    "\n",
    "# SVM\n",
    "confusion_matrix_svm = confusion_matrix(label_svm, prediction_svm)\n",
    "print(\"\\nConfusion Matrix SVM:\\n\", confusion_matrix_svm)\n",
    "\n",
    "# Naive-Bayes Classifier\n",
    "confusion_matrix_naive = confusion_matrix(Y_, prediction_naive)\n",
    "print(\"\\nConfusion Matrix Naive Bayes:\\n\", confusion_matrix_naive)\n"
   ]
  },
  {
   "cell_type": "markdown",
   "id": "a809c49b",
   "metadata": {},
   "source": [
    "#### 4. Berikan interpretasi dari hasil evaluasi di atas untuk setiap model.\n",
    "\n",
    "Decision Tree:\n",
    "\n",
    "Model Decision Tree berhasil mengklasifikasikan dengan benar 3 kasus positif (True Positives/TP), yang artinya 3 kasus positif diklasifikasikan dengan tepat.\n",
    "Tidak ada kasus negatif yang salah diklasifikasikan sebagai positif (False Positives/FP), sehingga tidak ada kesalahan dalam mengklasifikasikan kasus negatif sebagai positif.\n",
    "Tidak ada kasus positif yang salah diklasifikasikan sebagai negatif (False Negatives/FN), sehingga tidak ada kesalahan dalam mengklasifikasikan kasus positif sebagai negatif.\n",
    "Model ini juga berhasil mengklasifikasikan dengan benar 2 kasus negatif (True Negatives/TN), yang artinya 2 kasus negatif diklasifikasikan dengan tepat.\n",
    "\n",
    "K-Nearest Neighbors (KNN):\n",
    "\n",
    "Model KNN berhasil mengklasifikasikan dengan benar 3 kasus positif (TP).\n",
    "Terdapat 1 kasus negatif yang salah diklasifikasikan sebagai positif (FP), sehingga ada 1 kesalahan dalam mengklasifikasikan kasus negatif sebagai positif.\n",
    "Tidak ada kasus positif yang salah diklasifikasikan sebagai negatif (FN).\n",
    "Model ini juga berhasil mengklasifikasikan dengan benar 3 kasus negatif (TN).\n",
    "\n",
    "Support Vector Machine (SVM):\n",
    "\n",
    "Model SVM berhasil mengklasifikasikan dengan benar 3 kasus positif (TP).\n",
    "Tidak ada kasus negatif yang salah diklasifikasikan sebagai positif (FP), sehingga tidak ada kesalahan dalam mengklasifikasikan kasus negatif sebagai positif.\n",
    "Tidak ada kasus positif yang salah diklasifikasikan sebagai negatif (FN), sehingga tidak ada kesalahan dalam mengklasifikasikan kasus positif sebagai negatif.\n",
    "Model ini juga berhasil mengklasifikasikan dengan benar 3 kasus negatif (TN).\n",
    "\n",
    "Naive Bayes Classifier:\n",
    "\n",
    "Model Naive Bayes berhasil mengklasifikasikan dengan benar 2 kasus positif (TP).\n",
    "Tidak ada kasus negatif yang salah diklasifikasikan sebagai positif (FP), sehingga tidak ada kesalahan dalam mengklasifikasikan kasus negatif sebagai positif.\n",
    "Tidak ada kasus positif yang salah diklasifikasikan sebagai negatif (FN), sehingga tidak ada kesalahan dalam mengklasifikasikan kasus positif sebagai negatif.\n",
    "Model ini juga berhasil mengklasifikasikan dengan benar 3 kasus negatif (TN).\n",
    "\n",
    "Dengan informasi dari Confusion Matrix ini, kita dapat mengukur sejauh mana model-model ini mampu mengidentifikasi dengan tepat kasus positif dan negatif dalam tugas klasifikasinya."
   ]
  },
  {
   "cell_type": "markdown",
   "id": "f84f1624",
   "metadata": {},
   "source": [
    "#### 5. Jika Anda harus memilih salah satu model untuk digunakan dalam kasus ini, model mana yang akan Anda pilih? Jelaskan alasan Anda.\n",
    "\n",
    "Saya akan menggunakan metode naive bayes. karena faktor independensi data mempermudah dalam melakukan klasifikasi yang bagus"
   ]
  },
  {
   "cell_type": "code",
   "execution_count": 46,
   "id": "8df1e0e4",
   "metadata": {},
   "outputs": [
    {
     "name": "stdout",
     "output_type": "stream",
     "text": [
      "I certify that this is my own work.\n",
      "Signed by:\n",
      "Name: \t\tNisa'ul Fadhilah\n",
      "NIM: \t\t00000060236\n",
      "Time-stamp:\t2023-10-20 23:51:52.536400\n"
     ]
    }
   ],
   "source": [
    "# Footer\n",
    "myDate = datetime.datetime.now()\n",
    "print(\"I certify that this is my own work.\")\n",
    "print(\"Signed by:\")\n",
    "print(\"Name: \\t\\t{}\".format(myName))\n",
    "print(\"NIM: \\t\\t{}\".format(myNIM))\n",
    "print(\"Time-stamp:\\t{}\".format(myDate))"
   ]
  },
  {
   "cell_type": "code",
   "execution_count": null,
   "id": "de381cf4",
   "metadata": {},
   "outputs": [],
   "source": [
    "!jupyter nbconvert --to html \"./IF540L_kelas_EL_laporan_M01_00000060236_Nisaul Fadhilah.ipynb\" --output-dir=\"./\"\n"
   ]
  }
 ],
 "metadata": {
  "kernelspec": {
   "display_name": "Python 3 (ipykernel)",
   "language": "python",
   "name": "python3"
  },
  "language_info": {
   "codemirror_mode": {
    "name": "ipython",
    "version": 3
   },
   "file_extension": ".py",
   "mimetype": "text/x-python",
   "name": "python",
   "nbconvert_exporter": "python",
   "pygments_lexer": "ipython3",
   "version": "3.11.5"
  }
 },
 "nbformat": 4,
 "nbformat_minor": 5
}
