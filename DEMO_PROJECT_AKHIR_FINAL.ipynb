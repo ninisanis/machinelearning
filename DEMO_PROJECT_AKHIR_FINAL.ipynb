{
 "cells": [
  {
   "cell_type": "code",
   "execution_count": 1,
   "id": "f19ad589",
   "metadata": {},
   "outputs": [],
   "source": [
    "import pandas as pd\n",
    "from sklearn.feature_extraction.text import CountVectorizer\n",
    "from sklearn.model_selection import train_test_split\n",
    "from sklearn.svm import SVC\n",
    "from sklearn.naive_bayes import MultinomialNB\n",
    "from sklearn.tree import DecisionTreeClassifier\n",
    "from sklearn.metrics import accuracy_score, classification_report\n",
    "from sklearn.pipeline import Pipeline\n",
    "from sklearn.feature_extraction.text import TfidfTransformer"
   ]
  },
  {
   "cell_type": "code",
   "execution_count": 2,
   "id": "95a4287a",
   "metadata": {},
   "outputs": [],
   "source": [
    "df = pd.read_csv(\"mail_data.csv\")"
   ]
  },
  {
   "cell_type": "code",
   "execution_count": 3,
   "id": "53f0ba2f",
   "metadata": {},
   "outputs": [],
   "source": []
  },
  {
   "cell_type": "code",
   "execution_count": null,
   "id": "f0ecec0f",
   "metadata": {},
   "outputs": [],
   "source": []
  },
  {
   "cell_type": "code",
   "execution_count": null,
   "id": "2fa18bcd",
   "metadata": {},
   "outputs": [],
   "source": []
  },
  {
   "cell_type": "code",
   "execution_count": null,
   "id": "37100584",
   "metadata": {},
   "outputs": [],
   "source": []
  },
  {
   "cell_type": "code",
   "execution_count": 4,
   "id": "a6121338",
   "metadata": {},
   "outputs": [
    {
     "name": "stdout",
     "output_type": "stream",
     "text": [
      "SVM Accuracy: 0.9937219730941704\n",
      "SVM Classification Report:\n",
      "               precision    recall  f1-score   support\n",
      "\n",
      "         ham       0.99      1.00      1.00       966\n",
      "        spam       1.00      0.95      0.98       149\n",
      "\n",
      "    accuracy                           0.99      1115\n",
      "   macro avg       1.00      0.98      0.99      1115\n",
      "weighted avg       0.99      0.99      0.99      1115\n",
      "\n",
      "\n",
      "Decision Tree Accuracy: 0.9668161434977578\n",
      "Decision Tree Classification Report:\n",
      "               precision    recall  f1-score   support\n",
      "\n",
      "         ham       0.98      0.99      0.98       966\n",
      "        spam       0.90      0.85      0.87       149\n",
      "\n",
      "    accuracy                           0.97      1115\n",
      "   macro avg       0.94      0.92      0.93      1115\n",
      "weighted avg       0.97      0.97      0.97      1115\n",
      "\n",
      "\n",
      "Naive Bayes Accuracy: 0.9650224215246637\n",
      "Naive Bayes Classification Report:\n",
      "               precision    recall  f1-score   support\n",
      "\n",
      "         ham       0.96      1.00      0.98       966\n",
      "        spam       1.00      0.74      0.85       149\n",
      "\n",
      "    accuracy                           0.97      1115\n",
      "   macro avg       0.98      0.87      0.91      1115\n",
      "weighted avg       0.97      0.97      0.96      1115\n",
      "\n"
     ]
    }
   ],
   "source": [
    "from sklearn.model_selection import train_test_split\n",
    "from sklearn.feature_extraction.text import TfidfVectorizer\n",
    "from sklearn.svm import SVC\n",
    "from sklearn.tree import DecisionTreeClassifier\n",
    "from sklearn.naive_bayes import MultinomialNB\n",
    "from sklearn.metrics import accuracy_score, classification_report\n",
    "\n",
    "# Memisahkan data\n",
    "X_train, X_test, y_train, y_test = train_test_split(df['Message'], df['Category'], test_size=0.2, random_state=42)\n",
    "\n",
    "# Menggunakan TF-IDF Vectorizer untuk mengubah teks menjadi vektor fitur\n",
    "vectorizer = TfidfVectorizer()\n",
    "X_train_tfidf = vectorizer.fit_transform(X_train)\n",
    "X_test_tfidf = vectorizer.transform(X_test)\n",
    "\n",
    "# 1. Support Vector Machine (SVM)\n",
    "svm_model = SVC(kernel='linear')\n",
    "svm_model.fit(X_train_tfidf, y_train)\n",
    "svm_predictions = svm_model.predict(X_test_tfidf)\n",
    "\n",
    "# Evaluasi SVM\n",
    "svm_accuracy = accuracy_score(y_test, svm_predictions)\n",
    "print(\"SVM Accuracy:\", svm_accuracy)\n",
    "print(\"SVM Classification Report:\\n\", classification_report(y_test, svm_predictions))\n",
    "\n",
    "# 2. Decision Tree\n",
    "dt_model = DecisionTreeClassifier()\n",
    "dt_model.fit(X_train_tfidf, y_train)\n",
    "dt_predictions = dt_model.predict(X_test_tfidf)\n",
    "\n",
    "# Evaluasi Decision Tree\n",
    "dt_accuracy = accuracy_score(y_test, dt_predictions)\n",
    "print(\"\\nDecision Tree Accuracy:\", dt_accuracy)\n",
    "print(\"Decision Tree Classification Report:\\n\", classification_report(y_test, dt_predictions))\n",
    "\n",
    "# 3. Naive Bayes\n",
    "nb_model = MultinomialNB()\n",
    "nb_model.fit(X_train_tfidf, y_train)\n",
    "nb_predictions = nb_model.predict(X_test_tfidf)\n",
    "\n",
    "# Evaluasi Naive Bayes\n",
    "nb_accuracy = accuracy_score(y_test, nb_predictions)\n",
    "print(\"\\nNaive Bayes Accuracy:\", nb_accuracy)\n",
    "print(\"Naive Bayes Classification Report:\\n\", classification_report(y_test, nb_predictions))"
   ]
  },
  {
   "cell_type": "code",
   "execution_count": 5,
   "id": "d7e3f848",
   "metadata": {},
   "outputs": [
    {
     "name": "stdout",
     "output_type": "stream",
     "text": [
      "     Category                                            Message\n",
      "0         ham  Go until jurong point, crazy.. Available only ...\n",
      "1         ham                      Ok lar... Joking wif u oni...\n",
      "2        spam  Free entry in 2 a wkly comp to win FA Cup fina...\n",
      "3         ham  U dun say so early hor... U c already then say...\n",
      "4         ham  Nah I don't think he goes to usf, he lives aro...\n",
      "...       ...                                                ...\n",
      "5567     spam  This is the 2nd time we have tried 2 contact u...\n",
      "5568      ham               Will ü b going to esplanade fr home?\n",
      "5569      ham  Pity, * was in mood for that. So...any other s...\n",
      "5570      ham  The guy did some bitching but I acted like i'd...\n",
      "5571      ham                         Rofl. Its true to its name\n",
      "\n",
      "[5572 rows x 2 columns]\n"
     ]
    }
   ],
   "source": [
    "print(df)"
   ]
  },
  {
   "cell_type": "code",
   "execution_count": null,
   "id": "7739e478",
   "metadata": {},
   "outputs": [],
   "source": [
    "# Fungsi untuk prediksi pesan menggunakan model yang telah dilatih\n",
    "def predict_message(message, model):\n",
    "    message_tfidf = vectorizer.transform([message])\n",
    "    prediction = model.predict(message_tfidf)\n",
    "    return prediction[0]\n",
    "\n",
    "# Pesan yang ingin diuji\n",
    "user_input = input(\"Masukkan pesan yang ingin diuji: \")\n",
    "\n",
    "# Prediksi menggunakan SVM\n",
    "svm_prediction = predict_message(user_input, svm_model)\n",
    "print(\"Prediksi SVM:\", svm_prediction)\n",
    "\n",
    "# Prediksi menggunakan Decision Tree\n",
    "dt_prediction = predict_message(user_input, dt_model)\n",
    "print(\"Prediksi Decision Tree:\", dt_prediction)\n",
    "\n",
    "# Prediksi menggunakan Naive Bayes\n",
    "nb_prediction = predict_message(user_input, nb_model)\n",
    "print(\"Prediksi Naive Bayes:\", nb_prediction)"
   ]
  },
  {
   "cell_type": "code",
   "execution_count": null,
   "id": "69530b1e",
   "metadata": {},
   "outputs": [],
   "source": [
    "from sklearn.metrics import confusion_matrix\n",
    "import seaborn as sns\n",
    "import matplotlib.pyplot as plt\n",
    "\n",
    "# Function to plot confusion matrix\n",
    "def plot_confusion_matrix(y_true, y_pred, title):\n",
    "    cm = confusion_matrix(y_true, y_pred)\n",
    "    plt.figure(figsize=(6, 4))\n",
    "    sns.heatmap(cm, annot=True, fmt='g', cmap='Blues', xticklabels=['Ham', 'Spam'], yticklabels=['Ham', 'Spam'])\n",
    "    plt.title(title)\n",
    "    plt.xlabel('Predicted')\n",
    "    plt.ylabel('Actual')\n",
    "    plt.show()\n",
    "\n",
    "# Plot confusion matrix for SVM\n",
    "plot_confusion_matrix(y_test, svm_predictions, 'SVM Confusion Matrix')\n",
    "\n",
    "# Plot confusion matrix for Decision Tree\n",
    "plot_confusion_matrix(y_test, dt_predictions, 'Decision Tree Confusion Matrix')\n",
    "\n",
    "# Plot confusion matrix for Naive Bayes\n",
    "plot_confusion_matrix(y_test, nb_predictions, 'Naive Bayes Confusion Matrix')\n"
   ]
  },
  {
   "cell_type": "code",
   "execution_count": null,
   "id": "7a849107",
   "metadata": {},
   "outputs": [],
   "source": []
  }
 ],
 "metadata": {
  "kernelspec": {
   "display_name": "Python 3 (ipykernel)",
   "language": "python",
   "name": "python3"
  },
  "language_info": {
   "codemirror_mode": {
    "name": "ipython",
    "version": 3
   },
   "file_extension": ".py",
   "mimetype": "text/x-python",
   "name": "python",
   "nbconvert_exporter": "python",
   "pygments_lexer": "ipython3",
   "version": "3.11.5"
  }
 },
 "nbformat": 4,
 "nbformat_minor": 5
}
