{
 "cells": [
  {
   "cell_type": "code",
   "execution_count": 8,
   "id": "9e0e2c4b",
   "metadata": {},
   "outputs": [
    {
     "name": "stdout",
     "output_type": "stream",
     "text": [
      "Gambar kucing abys dengan jenis kelamin female: https://cdn2.thecatapi.com/images/0XYvRd7oD.jpg\n"
     ]
    }
   ],
   "source": [
    "import requests\n",
    "\n",
    "api_key = 'YOUR_API_KEY'\n",
    "breed_id = 'abys' \n",
    "gender = 'female'  \n",
    "\n",
    "url = f'https://api.thecatapi.com/v1/images/search?breed_id={breed_id}&gender={gender}'\n",
    "headers = {'x-api-key': api_key}\n",
    "\n",
    "response = requests.get(url, headers=headers)\n",
    "\n",
    "if response.status_code == 200:\n",
    "    data = response.json()\n",
    "    image_url = data[0]['url']\n",
    "    print(f'Gambar kucing {breed_id} dengan jenis kelamin {gender}: {image_url}')\n",
    "else:\n",
    "    print(f'Gagal mendapatkan gambar kucing. Status code: {response.status_code}')\n"
   ]
  },
  {
   "cell_type": "code",
   "execution_count": 7,
   "id": "e4fb9745",
   "metadata": {},
   "outputs": [
    {
     "name": "stdout",
     "output_type": "stream",
     "text": [
      "Gambar kucing sphy dengan jenis kelamin male: https://cdn2.thecatapi.com/images/BedvI_ovc.jpg\n"
     ]
    }
   ],
   "source": [
    "import requests\n",
    "\n",
    "api_key = 'YOUR_API_KEY'\n",
    "breed_id = 'sphy' \n",
    "gender = 'male'  \n",
    "\n",
    "url = f'https://api.thecatapi.com/v1/images/search?breed_id={breed_id}&gender={gender}'\n",
    "headers = {'x-api-key': api_key}\n",
    "\n",
    "response = requests.get(url, headers=headers)\n",
    "\n",
    "if response.status_code == 200:\n",
    "    data = response.json()\n",
    "    image_url = data[0]['url']\n",
    "    print(f'Gambar kucing {breed_id} dengan jenis kelamin {gender}: {image_url}')\n",
    "else:\n",
    "    print(f'Gagal mendapatkan gambar kucing. Status code: {response.status_code}')\n"
   ]
  },
  {
   "cell_type": "code",
   "execution_count": null,
   "id": "705511cf",
   "metadata": {},
   "outputs": [],
   "source": []
  }
 ],
 "metadata": {
  "kernelspec": {
   "display_name": "Python 3 (ipykernel)",
   "language": "python",
   "name": "python3"
  },
  "language_info": {
   "codemirror_mode": {
    "name": "ipython",
    "version": 3
   },
   "file_extension": ".py",
   "mimetype": "text/x-python",
   "name": "python",
   "nbconvert_exporter": "python",
   "pygments_lexer": "ipython3",
   "version": "3.11.5"
  }
 },
 "nbformat": 4,
 "nbformat_minor": 5
}
