{
 "cells": [
  {
   "cell_type": "markdown",
   "id": "d71aa3f5",
   "metadata": {},
   "source": [
    "### Nama: Nisa'ul Fadhilah\n",
    "### NIM: 000060236\n",
    "\n",
    "\n",
    "\n",
    "\n"
   ]
  },
  {
   "cell_type": "markdown",
   "id": "1e656820",
   "metadata": {},
   "source": [
    "#### Soal 1"
   ]
  },
  {
   "cell_type": "code",
   "execution_count": null,
   "id": "66b11196",
   "metadata": {},
   "outputs": [],
   "source": [
    "from sklearn.cluster import KMeans\n",
    "import numpy as np"
   ]
  },
  {
   "cell_type": "code",
   "execution_count": 2,
   "id": "6b827736",
   "metadata": {},
   "outputs": [],
   "source": [
    "pixels = np.array([\n",
    "    [255, 0, 0], [250, 10, 10], [245, 5, 5],  # Merah\n",
    "    [0, 255, 0], [10, 250, 10], [5, 245, 5],  # Hijau\n",
    "    [0, 0, 255], [10, 10, 250], [5, 5, 245]   # Biru\n",
    "])"
   ]
  },
  {
   "cell_type": "code",
   "execution_count": 3,
   "id": "d638bd9c",
   "metadata": {},
   "outputs": [
    {
     "name": "stderr",
     "output_type": "stream",
     "text": [
      "C:\\Users\\hp\\anaconda3\\Lib\\site-packages\\sklearn\\cluster\\_kmeans.py:1412: FutureWarning: The default value of `n_init` will change from 10 to 'auto' in 1.4. Set the value of `n_init` explicitly to suppress the warning\n",
      "  super()._check_params_vs_input(X, default_n_init=10)\n",
      "C:\\Users\\hp\\anaconda3\\Lib\\site-packages\\sklearn\\cluster\\_kmeans.py:1436: UserWarning: KMeans is known to have a memory leak on Windows with MKL, when there are less chunks than available threads. You can avoid it by setting the environment variable OMP_NUM_THREADS=1.\n",
      "  warnings.warn(\n"
     ]
    },
    {
     "data": {
      "text/html": [
       "<style>#sk-container-id-1 {color: black;}#sk-container-id-1 pre{padding: 0;}#sk-container-id-1 div.sk-toggleable {background-color: white;}#sk-container-id-1 label.sk-toggleable__label {cursor: pointer;display: block;width: 100%;margin-bottom: 0;padding: 0.3em;box-sizing: border-box;text-align: center;}#sk-container-id-1 label.sk-toggleable__label-arrow:before {content: \"▸\";float: left;margin-right: 0.25em;color: #696969;}#sk-container-id-1 label.sk-toggleable__label-arrow:hover:before {color: black;}#sk-container-id-1 div.sk-estimator:hover label.sk-toggleable__label-arrow:before {color: black;}#sk-container-id-1 div.sk-toggleable__content {max-height: 0;max-width: 0;overflow: hidden;text-align: left;background-color: #f0f8ff;}#sk-container-id-1 div.sk-toggleable__content pre {margin: 0.2em;color: black;border-radius: 0.25em;background-color: #f0f8ff;}#sk-container-id-1 input.sk-toggleable__control:checked~div.sk-toggleable__content {max-height: 200px;max-width: 100%;overflow: auto;}#sk-container-id-1 input.sk-toggleable__control:checked~label.sk-toggleable__label-arrow:before {content: \"▾\";}#sk-container-id-1 div.sk-estimator input.sk-toggleable__control:checked~label.sk-toggleable__label {background-color: #d4ebff;}#sk-container-id-1 div.sk-label input.sk-toggleable__control:checked~label.sk-toggleable__label {background-color: #d4ebff;}#sk-container-id-1 input.sk-hidden--visually {border: 0;clip: rect(1px 1px 1px 1px);clip: rect(1px, 1px, 1px, 1px);height: 1px;margin: -1px;overflow: hidden;padding: 0;position: absolute;width: 1px;}#sk-container-id-1 div.sk-estimator {font-family: monospace;background-color: #f0f8ff;border: 1px dotted black;border-radius: 0.25em;box-sizing: border-box;margin-bottom: 0.5em;}#sk-container-id-1 div.sk-estimator:hover {background-color: #d4ebff;}#sk-container-id-1 div.sk-parallel-item::after {content: \"\";width: 100%;border-bottom: 1px solid gray;flex-grow: 1;}#sk-container-id-1 div.sk-label:hover label.sk-toggleable__label {background-color: #d4ebff;}#sk-container-id-1 div.sk-serial::before {content: \"\";position: absolute;border-left: 1px solid gray;box-sizing: border-box;top: 0;bottom: 0;left: 50%;z-index: 0;}#sk-container-id-1 div.sk-serial {display: flex;flex-direction: column;align-items: center;background-color: white;padding-right: 0.2em;padding-left: 0.2em;position: relative;}#sk-container-id-1 div.sk-item {position: relative;z-index: 1;}#sk-container-id-1 div.sk-parallel {display: flex;align-items: stretch;justify-content: center;background-color: white;position: relative;}#sk-container-id-1 div.sk-item::before, #sk-container-id-1 div.sk-parallel-item::before {content: \"\";position: absolute;border-left: 1px solid gray;box-sizing: border-box;top: 0;bottom: 0;left: 50%;z-index: -1;}#sk-container-id-1 div.sk-parallel-item {display: flex;flex-direction: column;z-index: 1;position: relative;background-color: white;}#sk-container-id-1 div.sk-parallel-item:first-child::after {align-self: flex-end;width: 50%;}#sk-container-id-1 div.sk-parallel-item:last-child::after {align-self: flex-start;width: 50%;}#sk-container-id-1 div.sk-parallel-item:only-child::after {width: 0;}#sk-container-id-1 div.sk-dashed-wrapped {border: 1px dashed gray;margin: 0 0.4em 0.5em 0.4em;box-sizing: border-box;padding-bottom: 0.4em;background-color: white;}#sk-container-id-1 div.sk-label label {font-family: monospace;font-weight: bold;display: inline-block;line-height: 1.2em;}#sk-container-id-1 div.sk-label-container {text-align: center;}#sk-container-id-1 div.sk-container {/* jupyter's `normalize.less` sets `[hidden] { display: none; }` but bootstrap.min.css set `[hidden] { display: none !important; }` so we also need the `!important` here to be able to override the default hidden behavior on the sphinx rendered scikit-learn.org. See: https://github.com/scikit-learn/scikit-learn/issues/21755 */display: inline-block !important;position: relative;}#sk-container-id-1 div.sk-text-repr-fallback {display: none;}</style><div id=\"sk-container-id-1\" class=\"sk-top-container\"><div class=\"sk-text-repr-fallback\"><pre>KMeans(n_clusters=3)</pre><b>In a Jupyter environment, please rerun this cell to show the HTML representation or trust the notebook. <br />On GitHub, the HTML representation is unable to render, please try loading this page with nbviewer.org.</b></div><div class=\"sk-container\" hidden><div class=\"sk-item\"><div class=\"sk-estimator sk-toggleable\"><input class=\"sk-toggleable__control sk-hidden--visually\" id=\"sk-estimator-id-1\" type=\"checkbox\" checked><label for=\"sk-estimator-id-1\" class=\"sk-toggleable__label sk-toggleable__label-arrow\">KMeans</label><div class=\"sk-toggleable__content\"><pre>KMeans(n_clusters=3)</pre></div></div></div></div></div>"
      ],
      "text/plain": [
       "KMeans(n_clusters=3)"
      ]
     },
     "execution_count": 3,
     "metadata": {},
     "output_type": "execute_result"
    }
   ],
   "source": [
    "kmeans = KMeans(n_clusters=3)\n",
    "kmeans.fit(pixels)\n"
   ]
  },
  {
   "cell_type": "code",
   "execution_count": 4,
   "id": "2f2ffc56",
   "metadata": {},
   "outputs": [
    {
     "name": "stdout",
     "output_type": "stream",
     "text": [
      "Piksel [255   0   0] termasuk dalam kelompok Merah\n",
      "Piksel [250  10  10] termasuk dalam kelompok Merah\n",
      "Piksel [245   5   5] termasuk dalam kelompok Merah\n",
      "Piksel [  0 255   0] termasuk dalam kelompok Biru\n",
      "Piksel [ 10 250  10] termasuk dalam kelompok Biru\n",
      "Piksel [  5 245   5] termasuk dalam kelompok Biru\n",
      "Piksel [  0   0 255] termasuk dalam kelompok Hijau\n",
      "Piksel [ 10  10 250] termasuk dalam kelompok Hijau\n",
      "Piksel [  5   5 245] termasuk dalam kelompok Hijau\n"
     ]
    }
   ],
   "source": [
    "labels = kmeans.labels_\n",
    "\n",
    "# Menampilkan hasil kelompok piksel\n",
    "for i, label in enumerate(labels):\n",
    "    if label == 0:\n",
    "        print(f\"Piksel {pixels[i]} termasuk dalam kelompok Merah\")\n",
    "    elif label == 1:\n",
    "        print(f\"Piksel {pixels[i]} termasuk dalam kelompok Hijau\")\n",
    "    elif label == 2:\n",
    "        print(f\"Piksel {pixels[i]} termasuk dalam kelompok Biru\")"
   ]
  },
  {
   "cell_type": "markdown",
   "id": "a9e3324d",
   "metadata": {},
   "source": [
    "### Penjelasan\n",
    "\n",
    "1. Inisialisasi Dataset. \n",
    "- Dataset piksel direpresentasikan sebagai numpy array pixels.\n",
    "2. Penentuan Jumlah Kelompok.\n",
    "- KMeans dipanggil dengan n_clusters=3 untuk melakukan pengelompokkan menjadi 3 kelompok. \n",
    "3. Proses KMeans\n",
    "- KMeans melakukan langkah-langkah E-step dan M-step secara internal dengan memanggil metode fit() pada dataset pixels.\n",
    "- Setelah proses fit selesai, KMeans memberikan label kelompok untuk setiap piksel.\n",
    "4. Hasil\n",
    "- Hasil kelompok piksel kemudian ditampilkan menggunakan loop for, di mana setiap piksel dipetakan ke kelompok yang sesuai berdasarkan label yang diberikan oleh KMeans.\n",
    "\n",
    "Jadi, kode di atas menggunakan KMeans, yang menggunakan konsep langkah-langkah Expectation (E-step) dan Maximization (M-step), untuk mengelompokkan data menjadi tiga kelompok berbeda. Ini memungkinkan kita untuk melihat bagaimana setiap piksel ditempatkan ke dalam kelompok yang paling sesuai berdasarkan warna yang dimilikinya."
   ]
  },
  {
   "cell_type": "markdown",
   "id": "3561759b",
   "metadata": {},
   "source": [
    "#### Soal 2"
   ]
  },
  {
   "cell_type": "code",
   "execution_count": 6,
   "id": "d4ce3800",
   "metadata": {},
   "outputs": [
    {
     "name": "stdout",
     "output_type": "stream",
     "text": [
      "Probabilitas awal lemparan angka 5 berasal dari Dadu A: 0.7143\n",
      "Probabilitas awal lemparan angka 5 berasal dari Dadu B: 0.2857\n",
      "\n",
      "Probabilitas baru Dadu A menghasilkan angka 5: 0.2857\n",
      "Probabilitas baru Dadu B menghasilkan angka 5: 0.7143\n"
     ]
    }
   ],
   "source": [
    "# Hipotesis awal\n",
    "prob_dadu_A = 0.5\n",
    "prob_dadu_B = 0.2\n",
    "\n",
    "# Jumlah lemparan yang menghasilkan angka 5\n",
    "jumlah_5 = 6\n",
    "jumlah_lemparan = 10\n",
    "\n",
    "# Langkah Expectation (E-step)\n",
    "prob_5_dadu_A = prob_dadu_A * (jumlah_5 / jumlah_lemparan)\n",
    "prob_5_dadu_B = prob_dadu_B * (jumlah_5 / jumlah_lemparan)\n",
    "\n",
    "# Normalisasi probabilitas untuk memastikan jumlahnya adalah 1\n",
    "total_prob = prob_5_dadu_A + prob_5_dadu_B\n",
    "prob_5_dadu_A /= total_prob\n",
    "prob_5_dadu_B /= total_prob\n",
    "\n",
    "# Output probabilitas awal (Jawaban A)\n",
    "print(f\"Probabilitas awal lemparan angka 5 berasal dari Dadu A: {prob_5_dadu_A:.4f}\")\n",
    "print(f\"Probabilitas awal lemparan angka 5 berasal dari Dadu B: {prob_5_dadu_B:.4f}\")\n",
    "\n",
    "# Langkah Maximization (M-step)\n",
    "new_prob_dadu_A = jumlah_5 / (prob_5_dadu_A * jumlah_lemparan)\n",
    "new_prob_dadu_B = jumlah_5 / (prob_5_dadu_B * jumlah_lemparan)\n",
    "\n",
    "# Normalisasi probabilitas untuk memastikan jumlahnya adalah 1\n",
    "total_prob_dadu = new_prob_dadu_A + new_prob_dadu_B\n",
    "new_prob_dadu_A /= total_prob_dadu\n",
    "new_prob_dadu_B /= total_prob_dadu\n",
    "\n",
    "# Output probabilitas baru setelah satu iterasi EM (Jawaban C)\n",
    "print(f\"\\nProbabilitas baru Dadu A menghasilkan angka 5: {new_prob_dadu_A:.4f}\")\n",
    "print(f\"Probabilitas baru Dadu B menghasilkan angka 5: {new_prob_dadu_B:.4f}\")\n",
    "\n",
    "# Jawaban B: Jumlah lemparan yang mungkin dari Dadu A dan Dadu B\n",
    "# Ini tidak dapat dihitung langsung dari langkah Expectation-Maximization yang satu iterasi.\n",
    "# Kita hanya tahu proporsi probabilitas masing-masing dadu dalam menghasilkan angka 5.\n"
   ]
  },
  {
   "cell_type": "markdown",
   "id": "4ac16532",
   "metadata": {},
   "source": [
    "### Penjelasan\n",
    "\n",
    "Kode diatas merupakan implementasi algoritma Expectation-Maximization (EM) dalam konteks kasus dadu dengan hipotesis awal probabilitas masing-masing dadu menghasilkan angka 5.\n",
    "\n",
    "Langkah 1: Inisialisasi\n",
    "\n",
    "Pada tahap inisialisasi, nilai probabilitas awal untuk masing-masing dadu diatur (0.5 untuk Dadu A dan 0.2 untuk Dadu B). Jumlah lemparan yang menghasilkan angka 5 (6 lemparan) dan total lemparan (10 lemparan) juga diinisialisasi.\n",
    "\n",
    "Langkah 2: Expectation (E-step)\n",
    "\n",
    "Pada langkah Expectation (E-step), dihitung probabilitas awal bahwa lemparan yang menghasilkan angka 5 berasal dari masing-masing dadu, dengan menggunakan hipotesis awal dan proporsi lemparan yang menghasilkan angka 5 terhadap total lemparan. Setelah itu, dilakukan normalisasi untuk memastikan total probabilitas adalah 1.\n",
    "\n",
    "Langkah 3: Maximization (M-step)\n",
    "\n",
    "Pada langkah Maximization (M-step), dilakukan perhitungan ulang untuk memperbarui probabilitas bahwa lemparan yang menghasilkan angka 5 berasal dari masing-masing dadu, dengan mempertimbangkan probabilitas yang telah dihitung sebelumnya. Dilakukan normalisasi kembali untuk memastikan total probabilitas adalah 1 setelah pembaruan.\n",
    "\n",
    "Hasil\n",
    "\n",
    "Setelah kedua langkah selesai, kode mencetak hasil probabilitas awal dan probabilitas baru dari masing-masing dadu dalam menghasilkan angka 5."
   ]
  },
  {
   "cell_type": "code",
   "execution_count": 8,
   "id": "d810c75f",
   "metadata": {},
   "outputs": [
    {
     "name": "stderr",
     "output_type": "stream",
     "text": [
      "[NbConvertApp] Converting notebook ./Tugas2_Nisa'ul Fadhilah_00000060236_EM.ipynb to html\n",
      "[NbConvertApp] Writing 598015 bytes to Tugas2_Nisa'ul Fadhilah_00000060236_EM.html\n"
     ]
    }
   ],
   "source": [
    "!jupyter nbconvert --to html \"./Tugas2_Nisa'ul Fadhilah_00000060236_EM.ipynb\" --output-dir=\"./\""
   ]
  },
  {
   "cell_type": "code",
   "execution_count": null,
   "id": "cfad7a2f",
   "metadata": {},
   "outputs": [],
   "source": []
  }
 ],
 "metadata": {
  "kernelspec": {
   "display_name": "Python 3 (ipykernel)",
   "language": "python",
   "name": "python3"
  },
  "language_info": {
   "codemirror_mode": {
    "name": "ipython",
    "version": 3
   },
   "file_extension": ".py",
   "mimetype": "text/x-python",
   "name": "python",
   "nbconvert_exporter": "python",
   "pygments_lexer": "ipython3",
   "version": "3.11.5"
  }
 },
 "nbformat": 4,
 "nbformat_minor": 5
}
